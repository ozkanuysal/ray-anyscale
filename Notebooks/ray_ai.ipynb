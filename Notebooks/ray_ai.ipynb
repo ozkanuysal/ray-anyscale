{
 "cells": [
  {
   "cell_type": "markdown",
   "id": "a2192c1f",
   "metadata": {},
   "source": [
    "### Ray AI Libraries"
   ]
  },
  {
   "cell_type": "code",
   "execution_count": 3,
   "id": "3a52bab9",
   "metadata": {},
   "outputs": [],
   "source": [
    "import asyncio\n",
    "import fastapi\n",
    "import pandas as pd\n",
    "import requests\n",
    "import xgboost\n",
    "from pydantic import BaseModel\n",
    "from sklearn.model_selection import train_test_split\n",
    "\n",
    "import ray\n",
    "import ray.tune\n",
    "import ray.train\n",
    "from ray.train.xgboost import XGBoostTrainer as RayTrainXGBoostTrainer\n",
    "from ray.train import ScalingConfig, RunConfig\n",
    "import ray.data\n",
    "import ray.serve\n"
   ]
  },
  {
   "cell_type": "markdown",
   "id": "a78f26de",
   "metadata": {},
   "source": [
    "### 3 Step -> 0 : Cloud, 1: Ray Core (low level distr. computing framework), 2: Ray AI Libraries (Data, Train, Tune , Serve)"
   ]
  },
  {
   "cell_type": "code",
   "execution_count": null,
   "id": "2d30bee0",
   "metadata": {},
   "outputs": [],
   "source": []
  },
  {
   "cell_type": "code",
   "execution_count": null,
   "id": "73cdb55a",
   "metadata": {},
   "outputs": [],
   "source": []
  },
  {
   "cell_type": "code",
   "execution_count": null,
   "id": "57237d15",
   "metadata": {},
   "outputs": [],
   "source": []
  }
 ],
 "metadata": {
  "kernelspec": {
   "display_name": "ray-jupyter",
   "language": "python",
   "name": "python3"
  },
  "language_info": {
   "codemirror_mode": {
    "name": "ipython",
    "version": 3
   },
   "file_extension": ".py",
   "mimetype": "text/x-python",
   "name": "python",
   "nbconvert_exporter": "python",
   "pygments_lexer": "ipython3",
   "version": "3.11.13"
  }
 },
 "nbformat": 4,
 "nbformat_minor": 5
}
