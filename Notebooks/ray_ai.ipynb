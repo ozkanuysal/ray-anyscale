{
 "cells": [
  {
   "cell_type": "markdown",
   "id": "a2192c1f",
   "metadata": {},
   "source": [
    "### Ray AI Libraries"
   ]
  },
  {
   "cell_type": "code",
   "execution_count": 3,
   "id": "3a52bab9",
   "metadata": {},
   "outputs": [],
   "source": [
    "import asyncio\n",
    "import fastapi\n",
    "import pandas as pd\n",
    "import requests\n",
    "import xgboost\n",
    "from pydantic import BaseModel\n",
    "from sklearn.model_selection import train_test_split\n",
    "\n",
    "import ray\n",
    "import ray.tune\n",
    "import ray.train\n",
    "from ray.train.xgboost import XGBoostTrainer as RayTrainXGBoostTrainer\n",
    "from ray.train import ScalingConfig, RunConfig\n",
    "import ray.data\n",
    "import ray.serve\n"
   ]
  },
  {
   "cell_type": "markdown",
   "id": "a78f26de",
   "metadata": {},
   "source": [
    "### 3 Step -> 0 : Cloud, 1: Ray Core (low level distr. computing framework), 2: Ray AI Libraries (Data, Train, Tune , Serve)"
   ]
  },
  {
   "cell_type": "code",
   "execution_count": 8,
   "id": "2d30bee0",
   "metadata": {},
   "outputs": [],
   "source": [
    "features = [\n",
    "    \"passenger_count\",\n",
    "    \"trip_distance\",\n",
    "    \"fare_amount\",\n",
    "    \"tolls_amount\",\n",
    "]\n",
    "\n",
    "label_column = \"tip_amount\""
   ]
  },
  {
   "cell_type": "code",
   "execution_count": 5,
   "id": "73cdb55a",
   "metadata": {},
   "outputs": [],
   "source": [
    "def load_data():\n",
    "    path = \"s3://anyscale-public-materials/nyc-taxi-cab/yellow_tripdata_2021-03.parquet\"\n",
    "    df = pd.read_parquet(path, columns=features + [label_column])\n",
    "    X_train, X_test, y_train, y_test = train_test_split(\n",
    "        df[features], df[label_column], test_size=0.2, random_state=42)\n",
    "    dtrain = xgboost.DMatrix(X_train, label=y_train)\n",
    "    dtest = xgboost.DMatrix(X_test, label=y_test)\n",
    "    return dtrain, dtest"
   ]
  },
  {
   "cell_type": "code",
   "execution_count": 6,
   "id": "57237d15",
   "metadata": {},
   "outputs": [],
   "source": [
    "storage_folder = \"/tmp/ray_train_xgboost\""
   ]
  },
  {
   "cell_type": "code",
   "execution_count": 10,
   "id": "1a937b9a",
   "metadata": {},
   "outputs": [
    {
     "name": "stdout",
     "output_type": "stream",
     "text": [
      "[0]\teval-rmse:2.18114\n",
      "[1]\teval-rmse:2.13805\n",
      "[2]\teval-rmse:2.10221\n",
      "[3]\teval-rmse:2.07294\n",
      "[4]\teval-rmse:2.04855\n",
      "[5]\teval-rmse:2.02852\n",
      "[6]\teval-rmse:2.01225\n",
      "[7]\teval-rmse:1.99868\n",
      "[8]\teval-rmse:1.98771\n",
      "[9]\teval-rmse:1.97872\n",
      "OrderedDict([('rmse', [2.18113709207776, 2.1380522744942168, 2.1022143627953036, 2.072936825276888, 2.0485457212693987, 2.028522863406997, 2.0122461934067273, 1.99868078532301, 1.9877117047436583, 1.9787180742813582])])\n"
     ]
    },
    {
     "data": {
      "text/plain": [
       "{'eval-rmse': 1.9787180742813582}"
      ]
     },
     "execution_count": 10,
     "metadata": {},
     "output_type": "execute_result"
    }
   ],
   "source": [
    "from pathlib import Path\n",
    "model_path = Path(storage_folder) / \"model.ubj\"\n",
    "\n",
    "def my_xgboost_func(params):\n",
    "    evals_result = {}\n",
    "    dtrain, dtest = load_data()\n",
    "    bst = xgboost.train(\n",
    "        params,\n",
    "        dtrain,\n",
    "        num_boost_round=10,\n",
    "        evals=[(dtest, \"eval\")],\n",
    "        evals_result=evals_result,\n",
    "    )\n",
    "    model_path.parent.mkdir(parents=True, exist_ok=True)\n",
    "    bst.save_model(model_path)\n",
    "    print(f\"{evals_result['eval']}\")\n",
    "    return {\"eval-rmse\": evals_result[\"eval\"][\"rmse\"][-1]}\n",
    "\n",
    "params = {\n",
    "    \"objective\": \"reg:squarederror\",\n",
    "    \"eval_metric\": \"rmse\",\n",
    "    \"tree_method\": \"hist\",\n",
    "    \"max_depth\": 6,\n",
    "    \"eta\": 0.1,\n",
    "}\n",
    "my_xgboost_func(params)"
   ]
  },
  {
   "cell_type": "markdown",
   "id": "b325bb13",
   "metadata": {},
   "source": [
    "### Hyperparameter Tuning"
   ]
  },
  {
   "cell_type": "code",
   "execution_count": 12,
   "id": "309d0b2e",
   "metadata": {},
   "outputs": [
    {
     "data": {
      "text/html": [
       "<div class=\"tuneStatus\">\n",
       "  <div style=\"display: flex;flex-direction: row\">\n",
       "    <div style=\"display: flex;flex-direction: column;\">\n",
       "      <h3>Tune Status</h3>\n",
       "      <table>\n",
       "<tbody>\n",
       "<tr><td>Current time:</td><td>2025-07-20 18:45:47</td></tr>\n",
       "<tr><td>Running for: </td><td>00:01:45.69        </td></tr>\n",
       "<tr><td>Memory:      </td><td>9.4/15.5 GiB       </td></tr>\n",
       "</tbody>\n",
       "</table>\n",
       "    </div>\n",
       "    <div class=\"vDivider\"></div>\n",
       "    <div class=\"systemInfo\">\n",
       "      <h3>System Info</h3>\n",
       "      Using FIFO scheduling algorithm.<br>Logical resource usage: 1.0/8 CPUs, 0/1 GPUs (0.0/1.0 accelerator_type:G)\n",
       "    </div>\n",
       "    \n",
       "  </div>\n",
       "  <div class=\"hDivider\"></div>\n",
       "  <div class=\"trialStatus\">\n",
       "    <h3>Trial Status</h3>\n",
       "    <table>\n",
       "<thead>\n",
       "<tr><th>Trial name                 </th><th>status    </th><th>loc                  </th><th style=\"text-align: right;\">      eta</th><th style=\"text-align: right;\">  iter</th><th style=\"text-align: right;\">  total time (s)</th><th style=\"text-align: right;\">  eval-rmse</th></tr>\n",
       "</thead>\n",
       "<tbody>\n",
       "<tr><td>my_xgboost_func_5a13b_00000</td><td>TERMINATED</td><td>192.168.1.113:1284644</td><td style=\"text-align: right;\">0.017217 </td><td style=\"text-align: right;\">     1</td><td style=\"text-align: right;\">         42.6304</td><td style=\"text-align: right;\">    2.15222</td></tr>\n",
       "<tr><td>my_xgboost_func_5a13b_00001</td><td>TERMINATED</td><td>192.168.1.113:1284638</td><td style=\"text-align: right;\">0.292783 </td><td style=\"text-align: right;\">     1</td><td style=\"text-align: right;\">         40.4477</td><td style=\"text-align: right;\">    1.93439</td></tr>\n",
       "<tr><td>my_xgboost_func_5a13b_00002</td><td>TERMINATED</td><td>192.168.1.113:1284641</td><td style=\"text-align: right;\">0.251578 </td><td style=\"text-align: right;\">     1</td><td style=\"text-align: right;\">         47.927 </td><td style=\"text-align: right;\">    1.93593</td></tr>\n",
       "<tr><td>my_xgboost_func_5a13b_00003</td><td>TERMINATED</td><td>192.168.1.113:1284640</td><td style=\"text-align: right;\">0.0576946</td><td style=\"text-align: right;\">     1</td><td style=\"text-align: right;\">         43.0324</td><td style=\"text-align: right;\">    2.03533</td></tr>\n",
       "<tr><td>my_xgboost_func_5a13b_00004</td><td>TERMINATED</td><td>192.168.1.113:1284639</td><td style=\"text-align: right;\">0.276954 </td><td style=\"text-align: right;\">     1</td><td style=\"text-align: right;\">         46.1864</td><td style=\"text-align: right;\">    1.93446</td></tr>\n",
       "<tr><td>my_xgboost_func_5a13b_00005</td><td>TERMINATED</td><td>192.168.1.113:1284642</td><td style=\"text-align: right;\">0.0974319</td><td style=\"text-align: right;\">     1</td><td style=\"text-align: right;\">         44.6243</td><td style=\"text-align: right;\">    1.98107</td></tr>\n",
       "<tr><td>my_xgboost_func_5a13b_00006</td><td>TERMINATED</td><td>192.168.1.113:1284643</td><td style=\"text-align: right;\">0.0365516</td><td style=\"text-align: right;\">     1</td><td style=\"text-align: right;\">         38.7625</td><td style=\"text-align: right;\">    2.08585</td></tr>\n",
       "<tr><td>my_xgboost_func_5a13b_00007</td><td>TERMINATED</td><td>192.168.1.113:1284645</td><td style=\"text-align: right;\">0.0743513</td><td style=\"text-align: right;\">     1</td><td style=\"text-align: right;\">         42.1051</td><td style=\"text-align: right;\">    2.00769</td></tr>\n",
       "<tr><td>my_xgboost_func_5a13b_00008</td><td>TERMINATED</td><td>192.168.1.113:1286303</td><td style=\"text-align: right;\">0.232245 </td><td style=\"text-align: right;\">     1</td><td style=\"text-align: right;\">         34.6192</td><td style=\"text-align: right;\">    1.93742</td></tr>\n",
       "<tr><td>my_xgboost_func_5a13b_00009</td><td>TERMINATED</td><td>192.168.1.113:1286302</td><td style=\"text-align: right;\">0.24758  </td><td style=\"text-align: right;\">     1</td><td style=\"text-align: right;\">         35.8037</td><td style=\"text-align: right;\">    1.93715</td></tr>\n",
       "</tbody>\n",
       "</table>\n",
       "  </div>\n",
       "</div>\n",
       "<style>\n",
       ".tuneStatus {\n",
       "  color: var(--jp-ui-font-color1);\n",
       "}\n",
       ".tuneStatus .systemInfo {\n",
       "  display: flex;\n",
       "  flex-direction: column;\n",
       "}\n",
       ".tuneStatus td {\n",
       "  white-space: nowrap;\n",
       "}\n",
       ".tuneStatus .trialStatus {\n",
       "  display: flex;\n",
       "  flex-direction: column;\n",
       "}\n",
       ".tuneStatus h3 {\n",
       "  font-weight: bold;\n",
       "}\n",
       ".tuneStatus .hDivider {\n",
       "  border-bottom-width: var(--jp-border-width);\n",
       "  border-bottom-color: var(--jp-border-color0);\n",
       "  border-bottom-style: solid;\n",
       "}\n",
       ".tuneStatus .vDivider {\n",
       "  border-left-width: var(--jp-border-width);\n",
       "  border-left-color: var(--jp-border-color0);\n",
       "  border-left-style: solid;\n",
       "  margin: 0.5em 1em 0.5em 1em;\n",
       "}\n",
       "</style>\n"
      ],
      "text/plain": [
       "<IPython.core.display.HTML object>"
      ]
     },
     "metadata": {},
     "output_type": "display_data"
    },
    {
     "name": "stdout",
     "output_type": "stream",
     "text": [
      "\u001b[36m(my_xgboost_func pid=1284643)\u001b[0m [0]\teval-rmse:2.21359\n",
      "\u001b[36m(my_xgboost_func pid=1284643)\u001b[0m [1]\teval-rmse:2.19536\n",
      "\u001b[36m(my_xgboost_func pid=1284644)\u001b[0m [0]\teval-rmse:2.22381\n",
      "\u001b[36m(my_xgboost_func pid=1284643)\u001b[0m [2]\teval-rmse:2.17829\n",
      "\u001b[36m(my_xgboost_func pid=1284643)\u001b[0m [3]\teval-rmse:2.16228\n",
      "\u001b[36m(my_xgboost_func pid=1284640)\u001b[0m [0]\teval-rmse:2.20258\n",
      "\u001b[36m(my_xgboost_func pid=1284644)\u001b[0m [1]\teval-rmse:2.21484\n",
      "\u001b[36m(my_xgboost_func pid=1284643)\u001b[0m [4]\teval-rmse:2.14727\n",
      "\u001b[36m(my_xgboost_func pid=1284638)\u001b[0m [0]\teval-rmse:2.09373\n",
      "\u001b[36m(my_xgboost_func pid=1284645)\u001b[0m [0]\teval-rmse:2.19405\n",
      "\u001b[36m(my_xgboost_func pid=1284644)\u001b[0m [2]\teval-rmse:2.20616\n",
      "\u001b[36m(my_xgboost_func pid=1284640)\u001b[0m [1]\teval-rmse:2.17513\n",
      "\u001b[36m(my_xgboost_func pid=1284643)\u001b[0m [5]\teval-rmse:2.13324\n",
      "\u001b[36m(my_xgboost_func pid=1284638)\u001b[0m [1]\teval-rmse:2.01945\n",
      "\u001b[36m(my_xgboost_func pid=1284645)\u001b[0m [1]\teval-rmse:2.16007\n",
      "\u001b[36m(my_xgboost_func pid=1284638)\u001b[0m [2]\teval-rmse:1.98012\n",
      "\u001b[36m(my_xgboost_func pid=1284643)\u001b[0m [6]\teval-rmse:2.12018\n",
      "\u001b[36m(my_xgboost_func pid=1284638)\u001b[0m [3]\teval-rmse:1.95977\n",
      "\u001b[36m(my_xgboost_func pid=1284640)\u001b[0m [2]\teval-rmse:2.15040\n",
      "\u001b[36m(my_xgboost_func pid=1284644)\u001b[0m [3]\teval-rmse:2.19773\n",
      "\u001b[36m(my_xgboost_func pid=1284638)\u001b[0m [4]\teval-rmse:1.94924\n",
      "\u001b[36m(my_xgboost_func pid=1284642)\u001b[0m [0]\teval-rmse:2.18242\n",
      "\u001b[36m(my_xgboost_func pid=1284643)\u001b[0m [7]\teval-rmse:2.10791\n",
      "\u001b[36m(my_xgboost_func pid=1284645)\u001b[0m [2]\teval-rmse:2.13050\n",
      "\u001b[36m(my_xgboost_func pid=1284638)\u001b[0m [5]\teval-rmse:1.94320\n",
      "\u001b[36m(my_xgboost_func pid=1284643)\u001b[0m [8]\teval-rmse:2.09649\n",
      "\u001b[36m(my_xgboost_func pid=1284640)\u001b[0m [3]\teval-rmse:2.12810\n",
      "\u001b[36m(my_xgboost_func pid=1284642)\u001b[0m [1]\teval-rmse:2.14018\n",
      "\u001b[36m(my_xgboost_func pid=1284645)\u001b[0m [3]\teval-rmse:2.10450\n",
      "\u001b[36m(my_xgboost_func pid=1284643)\u001b[0m [9]\teval-rmse:2.08585\n",
      "\u001b[36m(my_xgboost_func pid=1284643)\u001b[0m OrderedDict([('rmse', [2.2135850893841473, 2.1953609560492366, 2.178291870857301, 2.1622845390739878, 2.1472654939180065, 2.1332361138575124, 2.1201776558879435, 2.107908013797206, 2.096486678684533, 2.0858455728913015])])\n",
      "\u001b[36m(my_xgboost_func pid=1284642)\u001b[0m [2]\teval-rmse:2.10486\n",
      "\u001b[36m(my_xgboost_func pid=1284638)\u001b[0m [6]\teval-rmse:1.93950\n",
      "\u001b[36m(my_xgboost_func pid=1284644)\u001b[0m [4]\teval-rmse:2.18956\n",
      "\u001b[36m(my_xgboost_func pid=1284640)\u001b[0m [4]\teval-rmse:2.10819\n",
      "\u001b[36m(my_xgboost_func pid=1284644)\u001b[0m [5]\teval-rmse:2.18162\n",
      "\u001b[36m(my_xgboost_func pid=1284642)\u001b[0m [3]\teval-rmse:2.07574\n",
      "\u001b[36m(my_xgboost_func pid=1284638)\u001b[0m [7]\teval-rmse:1.93688\n",
      "\u001b[36m(my_xgboost_func pid=1284644)\u001b[0m [6]\teval-rmse:2.17392\n",
      "\u001b[36m(my_xgboost_func pid=1284645)\u001b[0m [4]\teval-rmse:2.08215\n",
      "\u001b[36m(my_xgboost_func pid=1284638)\u001b[0m [8]\teval-rmse:1.93566\n",
      "\u001b[36m(my_xgboost_func pid=1284644)\u001b[0m [7]\teval-rmse:2.16648\n",
      "\u001b[36m(my_xgboost_func pid=1284645)\u001b[0m [5]\teval-rmse:2.06269\n",
      "\u001b[36m(my_xgboost_func pid=1284638)\u001b[0m [9]\teval-rmse:1.93439\n",
      "\u001b[36m(my_xgboost_func pid=1284642)\u001b[0m [4]\teval-rmse:2.05155\n",
      "\u001b[36m(my_xgboost_func pid=1284644)\u001b[0m [8]\teval-rmse:2.15924\n",
      "\u001b[36m(my_xgboost_func pid=1284640)\u001b[0m [5]\teval-rmse:2.09031\n",
      "\u001b[36m(my_xgboost_func pid=1284642)\u001b[0m [5]\teval-rmse:2.03161\n",
      "\u001b[36m(my_xgboost_func pid=1284645)\u001b[0m [6]\teval-rmse:2.04571\n",
      "\u001b[36m(my_xgboost_func pid=1284645)\u001b[0m [7]\teval-rmse:2.03114\n",
      "\u001b[36m(my_xgboost_func pid=1284645)\u001b[0m [8]\teval-rmse:2.01852\n",
      "\u001b[36m(my_xgboost_func pid=1284642)\u001b[0m [6]\teval-rmse:2.01511\n",
      "\u001b[36m(my_xgboost_func pid=1284640)\u001b[0m [6]\teval-rmse:2.07433\n",
      "\u001b[36m(my_xgboost_func pid=1284639)\u001b[0m [0]\teval-rmse:2.10024\n",
      "\u001b[36m(my_xgboost_func pid=1284645)\u001b[0m [9]\teval-rmse:2.00769\n",
      "\u001b[36m(my_xgboost_func pid=1284640)\u001b[0m [7]\teval-rmse:2.05988\n",
      "\u001b[36m(my_xgboost_func pid=1284644)\u001b[0m [9]\teval-rmse:2.15222\n",
      "\u001b[36m(my_xgboost_func pid=1284642)\u001b[0m [7]\teval-rmse:2.00140\n",
      "\u001b[36m(my_xgboost_func pid=1284640)\u001b[0m [8]\teval-rmse:2.04694\n",
      "\u001b[36m(my_xgboost_func pid=1284639)\u001b[0m [1]\teval-rmse:2.02641\n",
      "\u001b[36m(my_xgboost_func pid=1284640)\u001b[0m [9]\teval-rmse:2.03533\n",
      "\u001b[36m(my_xgboost_func pid=1284642)\u001b[0m [8]\teval-rmse:1.99030\n",
      "\u001b[36m(my_xgboost_func pid=1284639)\u001b[0m [2]\teval-rmse:1.98573\n",
      "\u001b[36m(my_xgboost_func pid=1284640)\u001b[0m OrderedDict([('rmse', [2.202580390352722, 2.1751324618966454, 2.150400368092927, 2.1280984404487078, 2.1081934556559996, 2.090306028904282, 2.074334619542833, 2.0598761268803267, 2.04694249686831, 2.0353292847260027])])\u001b[32m [repeated 4x across cluster] (Ray deduplicates logs by default. Set RAY_DEDUP_LOGS=0 to disable log deduplication, or see https://docs.ray.io/en/master/ray-observability/user-guides/configure-logging.html#log-deduplication for more options.)\u001b[0m\n",
      "\u001b[36m(my_xgboost_func pid=1284639)\u001b[0m [3]\teval-rmse:1.96377\n",
      "\u001b[36m(my_xgboost_func pid=1284642)\u001b[0m [9]\teval-rmse:1.98107\n",
      "\u001b[36m(my_xgboost_func pid=1284639)\u001b[0m [4]\teval-rmse:1.95155\n",
      "\u001b[36m(my_xgboost_func pid=1284639)\u001b[0m [5]\teval-rmse:1.94482\n",
      "\u001b[36m(my_xgboost_func pid=1284639)\u001b[0m [6]\teval-rmse:1.94031\n",
      "\u001b[36m(my_xgboost_func pid=1284639)\u001b[0m [7]\teval-rmse:1.93761\n",
      "\u001b[36m(my_xgboost_func pid=1284639)\u001b[0m [8]\teval-rmse:1.93604\n",
      "\u001b[36m(my_xgboost_func pid=1284641)\u001b[0m [0]\teval-rmse:2.11093\n",
      "\u001b[36m(my_xgboost_func pid=1284639)\u001b[0m [9]\teval-rmse:1.93446\n",
      "\u001b[36m(my_xgboost_func pid=1284641)\u001b[0m [1]\teval-rmse:2.03887\n",
      "\u001b[36m(my_xgboost_func pid=1284641)\u001b[0m [2]\teval-rmse:1.99635\n",
      "\u001b[36m(my_xgboost_func pid=1284641)\u001b[0m [3]\teval-rmse:1.97173\n",
      "\u001b[36m(my_xgboost_func pid=1284641)\u001b[0m [4]\teval-rmse:1.95716\n",
      "\u001b[36m(my_xgboost_func pid=1284641)\u001b[0m [5]\teval-rmse:1.94846\n",
      "\u001b[36m(my_xgboost_func pid=1284641)\u001b[0m [6]\teval-rmse:1.94324\n",
      "\u001b[36m(my_xgboost_func pid=1284641)\u001b[0m [7]\teval-rmse:1.93981\n",
      "\u001b[36m(my_xgboost_func pid=1284641)\u001b[0m [8]\teval-rmse:1.93774\n",
      "\u001b[36m(my_xgboost_func pid=1284641)\u001b[0m [9]\teval-rmse:1.93593\n",
      "\u001b[36m(my_xgboost_func pid=1286303)\u001b[0m [0]\teval-rmse:2.11929\n",
      "\u001b[36m(my_xgboost_func pid=1284641)\u001b[0m OrderedDict([('rmse', [2.110932463213491, 2.038865661253066, 1.9963547975037377, 1.971733572753096, 1.957159433255154, 1.9484627670285084, 1.9432425504852626, 1.9398060314161587, 1.9377364730809803, 1.9359307779334067])])\u001b[32m [repeated 3x across cluster]\u001b[0m\n",
      "\u001b[36m(my_xgboost_func pid=1286303)\u001b[0m [1]\teval-rmse:2.04847\n",
      "\u001b[36m(my_xgboost_func pid=1286303)\u001b[0m [2]\teval-rmse:2.00542\n",
      "\u001b[36m(my_xgboost_func pid=1286303)\u001b[0m [3]\teval-rmse:1.97889\n",
      "\u001b[36m(my_xgboost_func pid=1286303)\u001b[0m [4]\teval-rmse:1.96255\n",
      "\u001b[36m(my_xgboost_func pid=1286303)\u001b[0m [5]\teval-rmse:1.95231\n",
      "\u001b[36m(my_xgboost_func pid=1286303)\u001b[0m [6]\teval-rmse:1.94591\n",
      "\u001b[36m(my_xgboost_func pid=1286303)\u001b[0m [7]\teval-rmse:1.94176\n",
      "\u001b[36m(my_xgboost_func pid=1286303)\u001b[0m [8]\teval-rmse:1.93901\n",
      "\u001b[36m(my_xgboost_func pid=1286303)\u001b[0m [9]\teval-rmse:1.93742\n",
      "\u001b[36m(my_xgboost_func pid=1286302)\u001b[0m [0]\teval-rmse:2.11265\n",
      "\u001b[36m(my_xgboost_func pid=1286302)\u001b[0m [1]\teval-rmse:2.04088\n",
      "\u001b[36m(my_xgboost_func pid=1286302)\u001b[0m [2]\teval-rmse:1.99812\n",
      "\u001b[36m(my_xgboost_func pid=1286302)\u001b[0m [3]\teval-rmse:1.97311\n",
      "\u001b[36m(my_xgboost_func pid=1286302)\u001b[0m [4]\teval-rmse:1.95818\n",
      "\u001b[36m(my_xgboost_func pid=1286302)\u001b[0m [5]\teval-rmse:1.94919\n",
      "\u001b[36m(my_xgboost_func pid=1286302)\u001b[0m [6]\teval-rmse:1.94403\n"
     ]
    },
    {
     "name": "stderr",
     "output_type": "stream",
     "text": [
      "2025-07-20 18:45:47,682\tINFO tune.py:1009 -- Wrote the latest version of all result files and experiment state to '/tmp/ray_train_xgboost/my_xgboost_func_2025-07-20_18-43-39' in 0.0051s.\n"
     ]
    },
    {
     "name": "stdout",
     "output_type": "stream",
     "text": [
      "\u001b[36m(my_xgboost_func pid=1286302)\u001b[0m [7]\teval-rmse:1.94069\n",
      "\u001b[36m(my_xgboost_func pid=1286302)\u001b[0m [8]\teval-rmse:1.93851\n"
     ]
    },
    {
     "name": "stderr",
     "output_type": "stream",
     "text": [
      "2025-07-20 18:45:47,688\tINFO tune.py:1041 -- Total run time: 108.71 seconds (105.68 seconds for the tuning loop).\n"
     ]
    },
    {
     "name": "stdout",
     "output_type": "stream",
     "text": [
      "Best hyperparameters found were:  {'objective': 'reg:squarederror', 'eval_metric': 'rmse', 'tree_method': 'hist', 'max_depth': 6, 'eta': 0.29278341909657435}\n"
     ]
    },
    {
     "name": "stdout",
     "output_type": "stream",
     "text": [
      "\u001b[36m(my_xgboost_func pid=1286302)\u001b[0m [9]\teval-rmse:1.93715\n",
      "\u001b[36m(my_xgboost_func pid=1286302)\u001b[0m OrderedDict([('rmse', [2.1126452943309664, 2.040883181990997, 1.9981238969050643, 1.973108252858935, 1.9581758572110184, 1.9491914806407895, 1.944029461096515, 1.9406905108043413, 1.9385105151831652, 1.9371533592860497])])\n"
     ]
    },
    {
     "name": "stderr",
     "output_type": "stream",
     "text": [
      "\u001b[36m(XGBoostTrainer pid=1290088)\u001b[0m GPUs are detected in your Ray cluster, but GPU training is not enabled for this trainer. To enable GPU training, make sure to set `use_gpu` to True in your scaling config.\n",
      "\u001b[36m(XGBoostTrainer pid=1290088)\u001b[0m Started distributed worker processes: \n",
      "\u001b[36m(XGBoostTrainer pid=1290088)\u001b[0m - (node_id=4c7337921f554d6ab59799e8b0edaf84fa9762427105064d8962142a, ip=192.168.1.113, pid=1290199) world_rank=0, local_rank=0, node_rank=0\n",
      "\u001b[36m(XGBoostTrainer pid=1290088)\u001b[0m - (node_id=4c7337921f554d6ab59799e8b0edaf84fa9762427105064d8962142a, ip=192.168.1.113, pid=1290200) world_rank=1, local_rank=1, node_rank=0\n",
      "\u001b[36m(RayTrainWorker pid=1290199)\u001b[0m [18:48:10] Task [xgboost.ray-rank=00000000]:5da89a72b469abc7bd37770801000000 got rank 0\n"
     ]
    },
    {
     "name": "stdout",
     "output_type": "stream",
     "text": [
      "\u001b[36m(RayTrainWorker pid=1290199)\u001b[0m Loading data for worker 0...\n"
     ]
    },
    {
     "name": "stderr",
     "output_type": "stream",
     "text": [
      "\u001b[36m(XGBoostTrainer pid=1290088)\u001b[0m [18:48:42] [0]\teval-rmse:2.28346\n",
      "\u001b[36m(RayTrainWorker pid=1290200)\u001b[0m [18:48:10] Task [xgboost.ray-rank=00000001]:82b040ded768be2a2de39fd401000000 got rank 1\n",
      "\u001b[36m(XGBoostTrainer pid=1290088)\u001b[0m [18:48:42] [1]\teval-rmse:2.25069\n",
      "\u001b[36m(XGBoostTrainer pid=1290088)\u001b[0m [18:48:43] [2]\teval-rmse:2.22460\n",
      "\u001b[36m(XGBoostTrainer pid=1290088)\u001b[0m [18:48:43] [3]\teval-rmse:2.20430\n",
      "\u001b[36m(XGBoostTrainer pid=1290088)\u001b[0m [18:48:43] [4]\teval-rmse:2.18836\n",
      "\u001b[36m(XGBoostTrainer pid=1290088)\u001b[0m [18:48:43] [5]\teval-rmse:2.17259\n",
      "\u001b[36m(XGBoostTrainer pid=1290088)\u001b[0m [18:48:44] [6]\teval-rmse:2.15961\n",
      "\u001b[36m(XGBoostTrainer pid=1290088)\u001b[0m [18:48:44] [7]\teval-rmse:2.14910\n",
      "\u001b[36m(XGBoostTrainer pid=1290088)\u001b[0m [18:48:44] [8]\teval-rmse:2.14038\n",
      "\u001b[36m(XGBoostTrainer pid=1290088)\u001b[0m [18:48:44] [9]\teval-rmse:2.13346\n"
     ]
    },
    {
     "name": "stdout",
     "output_type": "stream",
     "text": [
      "\u001b[36m(RayTrainWorker pid=1290199)\u001b[0m OrderedDict([('rmse', [np.float64(2.283455977036048), np.float64(2.2506874095991365), np.float64(2.2245956490092267), np.float64(2.204302370137811), np.float64(2.1883569504768654), np.float64(2.1725859682897077), np.float64(2.1596106275006597), np.float64(2.149095348540642), np.float64(2.140382007941743), np.float64(2.133460611893429)])])\n",
      "\u001b[36m(RayTrainWorker pid=1290200)\u001b[0m Loading data for worker 1...\n"
     ]
    },
    {
     "name": "stderr",
     "output_type": "stream",
     "text": [
      "\u001b[36m(ProxyActor pid=1291965)\u001b[0m INFO 2025-07-20 18:49:22,097 proxy 192.168.1.113 -- Proxy starting on node 4c7337921f554d6ab59799e8b0edaf84fa9762427105064d8962142a (HTTP port: 8000).\n",
      "\u001b[36m(ProxyActor pid=1291965)\u001b[0m INFO 2025-07-20 18:49:22,194 proxy 192.168.1.113 -- Got updated endpoints: {}.\n",
      "\u001b[36m(ServeController pid=1286209)\u001b[0m INFO 2025-07-20 18:49:22,436 controller 1286209 -- Deploying new version of Deployment(name='Model', app='default') (initial target replicas: 1).\n",
      "\u001b[36m(ServeController pid=1286209)\u001b[0m INFO 2025-07-20 18:49:22,437 controller 1286209 -- Deploying new version of Deployment(name='Model_1', app='default') (initial target replicas: 1).\n",
      "\u001b[36m(ServeController pid=1286209)\u001b[0m INFO 2025-07-20 18:49:22,439 controller 1286209 -- Deploying new version of Deployment(name='Ensemble', app='default') (initial target replicas: 1).\n",
      "\u001b[36m(ProxyActor pid=1291965)\u001b[0m INFO 2025-07-20 18:49:22,444 proxy 192.168.1.113 -- Got updated endpoints: {Deployment(name='Ensemble', app='default'): EndpointInfo(route='/ensemble', app_is_cross_language=False)}.\n",
      "\u001b[36m(ProxyActor pid=1291965)\u001b[0m INFO 2025-07-20 18:49:22,454 proxy 192.168.1.113 -- Started <ray.serve._private.router.SharedRouterLongPollClient object at 0x7b2487620b10>.\n",
      "\u001b[36m(ServeController pid=1286209)\u001b[0m INFO 2025-07-20 18:49:22,545 controller 1286209 -- Adding 1 replica to Deployment(name='Model', app='default').\n",
      "\u001b[36m(ServeController pid=1286209)\u001b[0m INFO 2025-07-20 18:49:22,547 controller 1286209 -- Adding 1 replica to Deployment(name='Model_1', app='default').\n",
      "\u001b[36m(ServeController pid=1286209)\u001b[0m INFO 2025-07-20 18:49:22,549 controller 1286209 -- Adding 1 replica to Deployment(name='Ensemble', app='default').\n",
      "\u001b[36m(ServeReplica:default:Ensemble pid=1292053)\u001b[0m INFO 2025-07-20 18:49:32,471 default_Ensemble e2t06zgz 401f6fc2-f689-4999-9b95-0dc5aa72cd63 -- GET /ensemble 404 4.9ms\n",
      "\u001b[36m(ServeReplica:default:Ensemble pid=1292053)\u001b[0m INFO 2025-07-20 18:49:45,311 default_Ensemble e2t06zgz 6b8e546a-8e28-43bd-97ba-74cd4fd0f6f9 -- GET /ensemble 404 2.1ms\n",
      "\u001b[36m(ServeReplica:default:Ensemble pid=1292053)\u001b[0m INFO 2025-07-20 18:50:08,203 default_Ensemble e2t06zgz c34ce83f-5d53-4dcf-92cc-af3c12edf245 -- Started <ray.serve._private.router.SharedRouterLongPollClient object at 0x737442619d10>.\n",
      "\u001b[36m(ServeReplica:default:Model pid=1292054)\u001b[0m /home/ozkan/anaconda3/envs/ray-jupyter/lib/python3.11/site-packages/ray/serve/_private/replica.py:1339: UserWarning: Calling sync method 'predict' directly on the asyncio loop. In a future version, sync methods will be run in a threadpool by default. Ensure your sync methods are thread safe or keep the existing behavior by making them `async def`. Opt into the new behavior by setting RAY_SERVE_RUN_SYNC_IN_THREADPOOL=1.\n",
      "\u001b[36m(ServeReplica:default:Model pid=1292054)\u001b[0m   warnings.warn(\n",
      "\u001b[36m(ServeReplica:default:Model pid=1292054)\u001b[0m INFO 2025-07-20 18:50:08,261 default_Model xcf8qky6 c34ce83f-5d53-4dcf-92cc-af3c12edf245 -- CALL /ensemble/predict OK 12.1ms\n",
      "\u001b[36m(ServeReplica:default:Model_1 pid=1292055)\u001b[0m INFO 2025-07-20 18:50:08,264 default_Model_1 64oqfa8m c34ce83f-5d53-4dcf-92cc-af3c12edf245 -- CALL /ensemble/predict OK 16.9ms\n",
      "\u001b[36m(ServeReplica:default:Ensemble pid=1292053)\u001b[0m /tmp/ipykernel_1079375/1272336709.py:23: DeprecationWarning: Conversion of an array with ndim > 0 to a scalar is deprecated, and will error in future. Ensure you extract a single element from your array before performing this operation. (Deprecated NumPy 1.25.)\n",
      "\u001b[36m(ServeReplica:default:Ensemble pid=1292053)\u001b[0m INFO 2025-07-20 18:50:08,270 default_Ensemble e2t06zgz c34ce83f-5d53-4dcf-92cc-af3c12edf245 -- POST /ensemble/predict 200 90.7ms\n"
     ]
    }
   ],
   "source": [
    "tuner = ray.tune.Tuner(\n",
    "    my_xgboost_func,\n",
    "    param_space={\n",
    "        \"objective\": \"reg:squarederror\",\n",
    "        \"eval_metric\": \"rmse\",\n",
    "        \"tree_method\": \"hist\",\n",
    "        \"max_depth\": 6,\n",
    "        \"eta\": ray.tune.uniform(0.01, 0.3),\n",
    "    },\n",
    "    run_config=RunConfig(\n",
    "        storage_path=storage_folder\n",
    "    ),\n",
    "    tune_config=ray.tune.TuneConfig(\n",
    "        metric=\"eval-rmse\",\n",
    "        mode=\"min\",\n",
    "        num_samples=10,\n",
    "    ),\n",
    "    )\n",
    "\n",
    "results = tuner.fit()\n",
    "print(\"Best hyperparameters found were: \", results.get_best_result().config)"
   ]
  },
  {
   "cell_type": "markdown",
   "id": "521c38a8",
   "metadata": {},
   "source": [
    "### Distributed Train"
   ]
  },
  {
   "cell_type": "code",
   "execution_count": 13,
   "id": "7ddcf8d7",
   "metadata": {},
   "outputs": [
    {
     "name": "stderr",
     "output_type": "stream",
     "text": [
      "2025-07-20 18:47:56,002\tINFO tune.py:616 -- [output] This uses the legacy output and progress reporter, as Jupyter notebooks are not supported by the new engine, yet. For more information, please see https://github.com/ray-project/ray/issues/36949\n",
      "2025-07-20 18:47:56,018\tINFO data_parallel_trainer.py:339 -- GPUs are detected in your Ray cluster, but GPU training is not enabled for this trainer. To enable GPU training, make sure to set `use_gpu` to True in your scaling config.\n"
     ]
    },
    {
     "name": "stdout",
     "output_type": "stream",
     "text": [
      "== Status ==\n",
      "Current time: 2025-07-20 18:47:56 (running for 00:00:00.11)\n",
      "Using FIFO scheduling algorithm.\n",
      "Logical resource usage: 3.0/8 CPUs, 0/1 GPUs (0.0/1.0 accelerator_type:G)\n",
      "Result logdir: /tmp/ray/session_2025-07-20_18-43-39_350810_1079375/artifacts/2025-07-20_18-47-56/XGBoostTrainer_2025-07-20_18-47-55/driver_artifacts\n",
      "Number of trials: 1/1 (1 PENDING)\n",
      "\n",
      "\n",
      "== Status ==\n",
      "Current time: 2025-07-20 18:48:01 (running for 00:00:05.14)\n",
      "Using FIFO scheduling algorithm.\n",
      "Logical resource usage: 3.0/8 CPUs, 0/1 GPUs (0.0/1.0 accelerator_type:G)\n",
      "Result logdir: /tmp/ray/session_2025-07-20_18-43-39_350810_1079375/artifacts/2025-07-20_18-47-56/XGBoostTrainer_2025-07-20_18-47-55/driver_artifacts\n",
      "Number of trials: 1/1 (1 PENDING)\n",
      "\n",
      "\n",
      "== Status ==\n",
      "Current time: 2025-07-20 18:48:06 (running for 00:00:10.14)\n",
      "Using FIFO scheduling algorithm.\n",
      "Logical resource usage: 3.0/8 CPUs, 0/1 GPUs (0.0/1.0 accelerator_type:G)\n",
      "Result logdir: /tmp/ray/session_2025-07-20_18-43-39_350810_1079375/artifacts/2025-07-20_18-47-56/XGBoostTrainer_2025-07-20_18-47-55/driver_artifacts\n",
      "Number of trials: 1/1 (1 RUNNING)\n",
      "\n",
      "\n",
      "== Status ==\n",
      "Current time: 2025-07-20 18:48:11 (running for 00:00:15.18)\n",
      "Using FIFO scheduling algorithm.\n",
      "Logical resource usage: 3.0/8 CPUs, 0/1 GPUs (0.0/1.0 accelerator_type:G)\n",
      "Result logdir: /tmp/ray/session_2025-07-20_18-43-39_350810_1079375/artifacts/2025-07-20_18-47-56/XGBoostTrainer_2025-07-20_18-47-55/driver_artifacts\n",
      "Number of trials: 1/1 (1 RUNNING)\n",
      "\n",
      "\n",
      "== Status ==\n",
      "Current time: 2025-07-20 18:48:16 (running for 00:00:20.21)\n",
      "Using FIFO scheduling algorithm.\n",
      "Logical resource usage: 3.0/8 CPUs, 0/1 GPUs (0.0/1.0 accelerator_type:G)\n",
      "Result logdir: /tmp/ray/session_2025-07-20_18-43-39_350810_1079375/artifacts/2025-07-20_18-47-56/XGBoostTrainer_2025-07-20_18-47-55/driver_artifacts\n",
      "Number of trials: 1/1 (1 RUNNING)\n",
      "\n",
      "\n",
      "== Status ==\n",
      "Current time: 2025-07-20 18:48:21 (running for 00:00:25.23)\n",
      "Using FIFO scheduling algorithm.\n",
      "Logical resource usage: 3.0/8 CPUs, 0/1 GPUs (0.0/1.0 accelerator_type:G)\n",
      "Result logdir: /tmp/ray/session_2025-07-20_18-43-39_350810_1079375/artifacts/2025-07-20_18-47-56/XGBoostTrainer_2025-07-20_18-47-55/driver_artifacts\n",
      "Number of trials: 1/1 (1 RUNNING)\n",
      "\n",
      "\n",
      "== Status ==\n",
      "Current time: 2025-07-20 18:48:26 (running for 00:00:30.25)\n",
      "Using FIFO scheduling algorithm.\n",
      "Logical resource usage: 3.0/8 CPUs, 0/1 GPUs (0.0/1.0 accelerator_type:G)\n",
      "Result logdir: /tmp/ray/session_2025-07-20_18-43-39_350810_1079375/artifacts/2025-07-20_18-47-56/XGBoostTrainer_2025-07-20_18-47-55/driver_artifacts\n",
      "Number of trials: 1/1 (1 RUNNING)\n",
      "\n",
      "\n",
      "== Status ==\n",
      "Current time: 2025-07-20 18:48:31 (running for 00:00:35.28)\n",
      "Using FIFO scheduling algorithm.\n",
      "Logical resource usage: 3.0/8 CPUs, 0/1 GPUs (0.0/1.0 accelerator_type:G)\n",
      "Result logdir: /tmp/ray/session_2025-07-20_18-43-39_350810_1079375/artifacts/2025-07-20_18-47-56/XGBoostTrainer_2025-07-20_18-47-55/driver_artifacts\n",
      "Number of trials: 1/1 (1 RUNNING)\n",
      "\n",
      "\n",
      "== Status ==\n",
      "Current time: 2025-07-20 18:48:36 (running for 00:00:40.31)\n",
      "Using FIFO scheduling algorithm.\n",
      "Logical resource usage: 3.0/8 CPUs, 0/1 GPUs (0.0/1.0 accelerator_type:G)\n",
      "Result logdir: /tmp/ray/session_2025-07-20_18-43-39_350810_1079375/artifacts/2025-07-20_18-47-56/XGBoostTrainer_2025-07-20_18-47-55/driver_artifacts\n",
      "Number of trials: 1/1 (1 RUNNING)\n",
      "\n",
      "\n",
      "== Status ==\n",
      "Current time: 2025-07-20 18:48:41 (running for 00:00:45.33)\n",
      "Using FIFO scheduling algorithm.\n",
      "Logical resource usage: 3.0/8 CPUs, 0/1 GPUs (0.0/1.0 accelerator_type:G)\n",
      "Result logdir: /tmp/ray/session_2025-07-20_18-43-39_350810_1079375/artifacts/2025-07-20_18-47-56/XGBoostTrainer_2025-07-20_18-47-55/driver_artifacts\n",
      "Number of trials: 1/1 (1 RUNNING)\n",
      "\n",
      "\n"
     ]
    },
    {
     "name": "stderr",
     "output_type": "stream",
     "text": [
      "2025-07-20 18:48:45,767\tINFO tune.py:1009 -- Wrote the latest version of all result files and experiment state to '/home/ozkan/ray_results/XGBoostTrainer_2025-07-20_18-47-55' in 0.0040s.\n",
      "2025-07-20 18:48:45,771\tINFO tune.py:1041 -- Total run time: 49.77 seconds (49.75 seconds for the tuning loop).\n"
     ]
    },
    {
     "name": "stdout",
     "output_type": "stream",
     "text": [
      "Trial XGBoostTrainer_e758e_00000 completed. Last result: \n",
      "== Status ==\n",
      "Current time: 2025-07-20 18:48:45 (running for 00:00:49.75)\n",
      "Using FIFO scheduling algorithm.\n",
      "Logical resource usage: 3.0/8 CPUs, 0/1 GPUs (0.0/1.0 accelerator_type:G)\n",
      "Result logdir: /tmp/ray/session_2025-07-20_18-43-39_350810_1079375/artifacts/2025-07-20_18-47-56/XGBoostTrainer_2025-07-20_18-47-55/driver_artifacts\n",
      "Number of trials: 1/1 (1 TERMINATED)\n",
      "\n",
      "\n"
     ]
    },
    {
     "data": {
      "text/plain": [
       "Result(\n",
       "  metrics={},\n",
       "  path='/home/ozkan/ray_results/XGBoostTrainer_2025-07-20_18-47-55/XGBoostTrainer_e758e_00000_0_2025-07-20_18-47-56',\n",
       "  filesystem='local',\n",
       "  checkpoint=None\n",
       ")"
      ]
     },
     "execution_count": 13,
     "metadata": {},
     "output_type": "execute_result"
    }
   ],
   "source": [
    "def load_data():\n",
    "    train_ctx = ray.train.get_context()\n",
    "    worker_rank = train_ctx.get_world_rank()\n",
    "    print(f\"Loading data for worker {worker_rank}...\")\n",
    "\n",
    "    month = (worker_rank + 1) % 12\n",
    "    year = 2021 + (worker_rank + 1) // 12\n",
    "    path = f\"s3://anyscale-public-materials/nyc-taxi-cab/yellow_tripdata_{year}-{month:02}.parquet\"\n",
    "\n",
    "    df = pd.read_parquet(path, columns=features + [label_column])\n",
    "    X_train, X_test, y_train, y_test = train_test_split(\n",
    "        df[features], df[label_column], test_size=0.2, random_state=42\n",
    "    )\n",
    "    dtrain = xgboost.DMatrix(X_train, label=y_train)\n",
    "    dtest = xgboost.DMatrix(X_test, label=y_test)\n",
    "    return dtrain, dtest\n",
    "\n",
    "trainer = RayTrainXGBoostTrainer(  \n",
    "    my_xgboost_func,  \n",
    "    scaling_config=ray.train.ScalingConfig(\n",
    "        num_workers=2, use_gpu=False\n",
    "    ),  # Define how many training workers\n",
    "    train_loop_config=params,  \n",
    ")\n",
    "\n",
    "trainer.fit()  # Run "
   ]
  },
  {
   "cell_type": "markdown",
   "id": "8891cf18",
   "metadata": {},
   "source": [
    "### Serve"
   ]
  },
  {
   "cell_type": "code",
   "execution_count": 14,
   "id": "e068d250",
   "metadata": {},
   "outputs": [
    {
     "name": "stderr",
     "output_type": "stream",
     "text": [
      "WARNING 2025-07-20 18:49:16,701 serve 1079375 -- There are multiple deployments with the same name 'Model'. Renaming one to 'Model_1'.\n",
      "INFO 2025-07-20 18:49:22,322 serve 1079375 -- Started Serve in namespace \"serve\".\n",
      "INFO 2025-07-20 18:49:28,467 serve 1079375 -- Application 'default' is ready at http://127.0.0.1:8000/ensemble.\n"
     ]
    }
   ],
   "source": [
    "app = fastapi.FastAPI()\n",
    "\n",
    "class Payload(BaseModel):\n",
    "    passenger_count: int\n",
    "    trip_distance: float\n",
    "    fare_amount: float\n",
    "    tolls_amount: float\n",
    "\n",
    "\n",
    "@ray.serve.deployment\n",
    "@ray.serve.ingress(app)\n",
    "class Ensemble:\n",
    "    def __init__(self, model1, model2):\n",
    "        self.model1 = model1\n",
    "        self.model2 = model2\n",
    "\n",
    "    @app.post(\"/predict\")\n",
    "    async def predict(self, data: Payload) -> dict:\n",
    "        model1_prediction, model2_prediction = await asyncio.gather(\n",
    "            self.model1.predict.remote([data.model_dump()]),\n",
    "            self.model2.predict.remote([data.model_dump()]),\n",
    "        )\n",
    "        out = {\"prediction\": float(model1_prediction + model2_prediction) / 2}\n",
    "        return out\n",
    "\n",
    "\n",
    "@ray.serve.deployment\n",
    "class Model:\n",
    "    def __init__(self, path: str):\n",
    "        self._model = xgboost.Booster()\n",
    "        self._model.load_model(path)\n",
    "\n",
    "    def predict(self, data: list[dict]) -> list[float]:\n",
    "        # Make prediction\n",
    "        dmatrix = xgboost.DMatrix(pd.DataFrame(data))\n",
    "        model_prediction = self._model.predict(dmatrix)\n",
    "        return model_prediction\n",
    "\n",
    "\n",
    "# Run the deployment\n",
    "handle = ray.serve.run(\n",
    "    Ensemble.bind(\n",
    "        model1=Model.bind(model_path),\n",
    "        model2=Model.bind(model_path),\n",
    "    ),\n",
    "    route_prefix=\"/ensemble\"\n",
    ")"
   ]
  },
  {
   "cell_type": "markdown",
   "id": "0c457f6c",
   "metadata": {},
   "source": [
    "### Request"
   ]
  },
  {
   "cell_type": "code",
   "execution_count": 15,
   "id": "84f24faa",
   "metadata": {},
   "outputs": [
    {
     "data": {
      "text/plain": [
       "{'prediction': 2.0076115131378174}"
      ]
     },
     "execution_count": 15,
     "metadata": {},
     "output_type": "execute_result"
    }
   ],
   "source": [
    "requests.post(\n",
    "    \"http://localhost:8000/ensemble/predict\",\n",
    "    json={  \n",
    "        \"passenger_count\": 1,\n",
    "        \"trip_distance\": 2.5,\n",
    "        \"fare_amount\": 10.0,\n",
    "        \"tolls_amount\": 0.5,\n",
    "    },\n",
    ").json()"
   ]
  },
  {
   "cell_type": "markdown",
   "id": "6e5ac957",
   "metadata": {},
   "source": [
    "### Batch inference"
   ]
  },
  {
   "cell_type": "code",
   "execution_count": 16,
   "id": "c94fa39a",
   "metadata": {},
   "outputs": [
    {
     "data": {
      "application/vnd.jupyter.widget-view+json": {
       "model_id": "917083ec4b8b499799de554a715bd267",
       "version_major": 2,
       "version_minor": 0
      },
      "text/plain": [
       "Parquet Files Sample 0:   0%|          | 0.00/1.00 [00:00<?, ? file/s]"
      ]
     },
     "metadata": {},
     "output_type": "display_data"
    }
   ],
   "source": [
    "class OfflinePredictor:\n",
    "    def __init__(self):\n",
    "        # Load expensive state\n",
    "        self._model = xgboost.Booster()\n",
    "        self._model.load_model(model_path)\n",
    "\n",
    "    def predict(self, data: list[dict]) -> list[float]:\n",
    "        # Make prediction in batch\n",
    "        dmatrix = xgboost.DMatrix(pd.DataFrame(data))\n",
    "        model_prediction = self._model.predict(dmatrix)\n",
    "        return model_prediction\n",
    "\n",
    "    def __call__(self, batch: dict) -> dict:\n",
    "        batch[\"predictions\"] = self.predict(batch)\n",
    "        return batch\n",
    "\n",
    "\n",
    "# Apply the predictor to the validation dataset\n",
    "prediction_pipeline = (\n",
    "    ray.data.read_parquet(\n",
    "        \"s3://anyscale-public-materials/nyc-taxi-cab/yellow_tripdata_2021-03.parquet\"\n",
    "    )\n",
    "    .select_columns(features)\n",
    "    .map_batches(OfflinePredictor, concurrency=(2, 10))\n",
    ")               \n"
   ]
  },
  {
   "cell_type": "code",
   "execution_count": null,
   "id": "ff7b4fdc",
   "metadata": {},
   "outputs": [],
   "source": []
  },
  {
   "cell_type": "code",
   "execution_count": null,
   "id": "8106d89d",
   "metadata": {},
   "outputs": [],
   "source": []
  },
  {
   "cell_type": "code",
   "execution_count": null,
   "id": "e67e7109",
   "metadata": {},
   "outputs": [],
   "source": []
  }
 ],
 "metadata": {
  "kernelspec": {
   "display_name": "ray-jupyter",
   "language": "python",
   "name": "python3"
  },
  "language_info": {
   "codemirror_mode": {
    "name": "ipython",
    "version": 3
   },
   "file_extension": ".py",
   "mimetype": "text/x-python",
   "name": "python",
   "nbconvert_exporter": "python",
   "pygments_lexer": "ipython3",
   "version": "3.11.13"
  }
 },
 "nbformat": 4,
 "nbformat_minor": 5
}
