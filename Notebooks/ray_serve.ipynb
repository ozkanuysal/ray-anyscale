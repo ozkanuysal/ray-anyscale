{
 "cells": [
  {
   "cell_type": "code",
   "execution_count": null,
   "id": "dc42b564",
   "metadata": {},
   "outputs": [],
   "source": [
    "import subprocess\n",
    "from typing import Any\n",
    "\n",
    "import json\n",
    "import numpy as np\n",
    "import requests\n",
    "import torch\n",
    "from ray import serve\n",
    "from starlette.requests import Request"
   ]
  },
  {
   "cell_type": "code",
   "execution_count": null,
   "id": "c74fe78f",
   "metadata": {},
   "outputs": [],
   "source": [
    "class MNISTClassifier:\n",
    "    def __init__(self, remote_path: str, local_path: str, device: str):\n",
    "        subprocess.run(f\"aws s3 cp {remote_path} {local_path} --no-sign-request\", shell=True, check=True)\n",
    "        \n",
    "        self.device = device\n",
    "        self.model = torch.jit.load(local_path).to(device).eval()\n",
    "\n",
    "    def __call__(self, batch: dict[str, np.ndarray]) -> dict[str, np.ndarray]:\n",
    "        return self.predict(batch)\n",
    "    \n",
    "    def predict(self, batch: dict[str, np.ndarray]) -> dict[str, np.ndarray]:\n",
    "        images = torch.tensor(batch[\"image\"]).float().to(self.device)\n",
    "\n",
    "        with torch.no_grad():\n",
    "            logits = self.model(images).cpu().numpy()\n",
    "\n",
    "        batch[\"predicted_label\"] = np.argmax(logits, axis=1)\n",
    "        return batch"
   ]
  },
  {
   "cell_type": "code",
   "execution_count": null,
   "id": "3e5eaf32",
   "metadata": {},
   "outputs": [],
   "source": [
    "storage_folder = '/Desktop/Anyscale-ray/ray-anyscale/Notebooks'  \n",
    "model_path = f\"{storage_folder}/model.pt\" \n",
    "classifier = MNISTClassifier(remote_path=\"s3://anyscale-public-materials/ray-ai-libraries/mnist/model/model.pt\", local_path=model_path, device=\"cpu\")"
   ]
  },
  {
   "cell_type": "code",
   "execution_count": null,
   "id": "638e9ebd",
   "metadata": {},
   "outputs": [],
   "source": [
    "output = classifier({\"image\": np.random.rand(1, 1, 28, 28).astype(np.float32)})  \n",
    "output[\"predicted_label\"] "
   ]
  },
  {
   "cell_type": "code",
   "execution_count": null,
   "id": "27dc9b6e",
   "metadata": {},
   "outputs": [],
   "source": [
    "@serve.deployment() # Decorator \n",
    "class OnlineMNISTClassifier:\n",
    "    def __init__(self, remote_path: str, local_path: str, device: str):\n",
    "        subprocess.run(f\"aws s3 cp {remote_path} {local_path} --no-sign-request\", shell=True, check=True)\n",
    "        \n",
    "        self.device = device\n",
    "        self.model = torch.jit.load(local_path).to(device).eval()\n",
    "\n",
    "    async def __call__(self, request: Request) -> dict[str, Any]:  # __call__ now takes a Request object\n",
    "        batch = json.loads(await request.json()) \n",
    "        return await self.predict(batch)\n",
    "    \n",
    "    async def predict(self, batch: dict[str, np.ndarray]) -> dict[str, np.ndarray]:\n",
    "        images = torch.tensor(batch[\"image\"]).float().to(self.device)\n",
    "\n",
    "        with torch.no_grad():\n",
    "            logits = self.model(images).cpu().numpy()\n",
    "\n",
    "        batch[\"predicted_label\"] = np.argmax(logits, axis=1)\n",
    "        return batch"
   ]
  },
  {
   "cell_type": "code",
   "execution_count": null,
   "id": "f88c0534",
   "metadata": {},
   "outputs": [],
   "source": [
    "model_path = f\"{storage_folder}/model.pt\"\n",
    "mnist_app = OnlineMNISTClassifier.bind(remote_path=\"s3://anyscale-public-materials/ray-ai-libraries/mnist/model/model.pt\", local_path=model_path, device=\"cpu\")\n",
    "mnist_app"
   ]
  },
  {
   "cell_type": "code",
   "execution_count": null,
   "id": "21269af2",
   "metadata": {},
   "outputs": [],
   "source": [
    "mnist_app_handle = serve.run(mnist_app, name='mnist_classifier', blocking=False)\n",
    "mnist_app_handle"
   ]
  },
  {
   "cell_type": "code",
   "execution_count": null,
   "id": "c2284a7c",
   "metadata": {},
   "outputs": [],
   "source": [
    "images = np.random.rand(2, 1, 28, 28).tolist()\n",
    "json_request = json.dumps({\"image\": images})\n",
    "response = requests.post(\"http://localhost:8000/\", json=json_request)\n",
    "response.json()[\"predicted_label\"]\n",
    "\n",
    "\n",
    "batch = {\"image\": np.random.rand(10, 1, 28, 28)}\n",
    "response = await mnist_app_handle.predict.remote(batch)\n",
    "response[\"predicted_label\"]"
   ]
  },
  {
   "cell_type": "code",
   "execution_count": null,
   "id": "2deac6c0",
   "metadata": {},
   "outputs": [],
   "source": [
    "!cd intro/ && serve run main:mnist_app --non-blocking --name app1"
   ]
  },
  {
   "cell_type": "code",
   "execution_count": null,
   "id": "dcc90bf1",
   "metadata": {},
   "outputs": [],
   "source": [
    "!cd intro/ && serve build -o config.yaml main:mnist_app "
   ]
  },
  {
   "cell_type": "code",
   "execution_count": null,
   "id": "c38b87d6",
   "metadata": {},
   "outputs": [],
   "source": [
    "!cd intro/ && serve run config.yaml --non-blocking"
   ]
  },
  {
   "cell_type": "code",
   "execution_count": null,
   "id": "5eea1cb1",
   "metadata": {},
   "outputs": [],
   "source": [
    "!cd intro/ && serve run app_builder:build_app --non-blocking --name app1 device=cpu"
   ]
  },
  {
   "cell_type": "code",
   "execution_count": null,
   "id": "9287b382",
   "metadata": {},
   "outputs": [],
   "source": [
    "!rm {storage_folder}/model.pt"
   ]
  },
  {
   "cell_type": "code",
   "execution_count": null,
   "id": "ffa47afe",
   "metadata": {},
   "outputs": [],
   "source": []
  },
  {
   "cell_type": "code",
   "execution_count": null,
   "id": "1183db6c",
   "metadata": {},
   "outputs": [],
   "source": []
  },
  {
   "cell_type": "code",
   "execution_count": null,
   "id": "26679c0e",
   "metadata": {},
   "outputs": [],
   "source": []
  },
  {
   "cell_type": "code",
   "execution_count": null,
   "id": "90f99058",
   "metadata": {},
   "outputs": [],
   "source": []
  },
  {
   "cell_type": "code",
   "execution_count": null,
   "id": "25e321ec",
   "metadata": {},
   "outputs": [],
   "source": []
  },
  {
   "cell_type": "code",
   "execution_count": null,
   "id": "b40e470f",
   "metadata": {},
   "outputs": [],
   "source": []
  },
  {
   "cell_type": "code",
   "execution_count": null,
   "id": "8daf1f8c",
   "metadata": {},
   "outputs": [],
   "source": []
  }
 ],
 "metadata": {
  "kernelspec": {
   "display_name": "ray-jupyter",
   "language": "python",
   "name": "python3"
  },
  "language_info": {
   "codemirror_mode": {
    "name": "ipython",
    "version": 3
   },
   "file_extension": ".py",
   "mimetype": "text/x-python",
   "name": "python",
   "nbconvert_exporter": "python",
   "pygments_lexer": "ipython3",
   "version": "3.11.13"
  }
 },
 "nbformat": 4,
 "nbformat_minor": 5
}
