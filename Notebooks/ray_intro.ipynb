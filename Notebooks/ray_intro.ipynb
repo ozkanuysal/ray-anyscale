{
 "cells": [
  {
   "cell_type": "code",
   "execution_count": 1,
   "id": "dcbb79dc",
   "metadata": {},
   "outputs": [
    {
     "name": "stderr",
     "output_type": "stream",
     "text": [
      "2025-07-18 23:37:41,986\tINFO worker.py:1879 -- Started a local Ray instance. View the dashboard at \u001b[1m\u001b[32mhttp://127.0.0.1:8265 \u001b[39m\u001b[22m\n"
     ]
    },
    {
     "name": "stdout",
     "output_type": "stream",
     "text": [
      "Computation complete\n"
     ]
    }
   ],
   "source": [
    "import ray\n",
    "\n",
    "ray.init()\n",
    "\n",
    "@ray.remote\n",
    "def f():\n",
    "    return \"Computation complete\"\n",
    "\n",
    "result = ray.get(f.remote())\n",
    "print(result)"
   ]
  },
  {
   "cell_type": "code",
   "execution_count": null,
   "id": "5546f76e",
   "metadata": {},
   "outputs": [],
   "source": []
  },
  {
   "cell_type": "markdown",
   "id": "1ac18e9b",
   "metadata": {},
   "source": [
    "# Ray Core : General purpose distributed computing library -> scale app's\n",
    "\n",
    "#### Distributing computation across many cores, nodes, or devices (e.g., accelerators)\n",
    "\n",
    "#### Scheduling arbitrary task graphs"
   ]
  },
  {
   "cell_type": "code",
   "execution_count": 2,
   "id": "772cf596",
   "metadata": {},
   "outputs": [],
   "source": [
    "import os\n",
    "import random\n",
    "import sys\n",
    "import time\n",
    "\n",
    "import numpy as np\n",
    "import ray"
   ]
  },
  {
   "cell_type": "markdown",
   "id": "23d4f0e9",
   "metadata": {},
   "source": [
    "### Decorate the function with @ray.remote turn to remote function"
   ]
  },
  {
   "cell_type": "code",
   "execution_count": 9,
   "id": "64365c57",
   "metadata": {},
   "outputs": [
    {
     "data": {
      "text/plain": [
       "ObjectRef(16310a0f0a45af5cffffffffffffffffffffffff0100000001000000)"
      ]
     },
     "execution_count": 9,
     "metadata": {},
     "output_type": "execute_result"
    }
   ],
   "source": [
    "@ray.remote\n",
    "def add_random_function(x, y):\n",
    "    time.sleep(random.uniform(0.1, 0.5))\n",
    "    return x + y\n",
    "\n",
    "add_random_function.remote(7, 3)    "
   ]
  },
  {
   "cell_type": "markdown",
   "id": "9072832b",
   "metadata": {},
   "source": [
    "### Remote ray functions are executed as tasks by calling them with .remote() suffix"
   ]
  },
  {
   "cell_type": "code",
   "execution_count": null,
   "id": "b2d2af88",
   "metadata": {},
   "outputs": [
    {
     "name": "stderr",
     "output_type": "stream",
     "text": [
      "2025-07-18 23:50:47,730\tINFO worker.py:1879 -- Started a local Ray instance. View the dashboard at \u001b[1m\u001b[32mhttp://127.0.0.1:8266 \u001b[39m\u001b[22m\n"
     ]
    },
    {
     "data": {
      "text/plain": [
       "ObjectRef(c8ef45ccd0112571ffffffffffffffffffffffff0100000001000000)"
      ]
     },
     "execution_count": 4,
     "metadata": {},
     "output_type": "execute_result"
    }
   ],
   "source": [
    "add_random_function.remote(7, 3)"
   ]
  },
  {
   "cell_type": "code",
   "execution_count": 10,
   "id": "3b9e7392",
   "metadata": {},
   "outputs": [
    {
     "data": {
      "text/plain": [
       "20"
      ]
     },
     "execution_count": 10,
     "metadata": {},
     "output_type": "execute_result"
    }
   ],
   "source": [
    "ref = add_random_function.remote(7, 13)\n",
    "ray.get(ref)"
   ]
  },
  {
   "cell_type": "code",
   "execution_count": 11,
   "id": "14a92ff1",
   "metadata": {},
   "outputs": [],
   "source": [
    "@ray.remote\n",
    "def expensive_square(x):\n",
    "    time.sleep(5)\n",
    "    return x**2"
   ]
  },
  {
   "cell_type": "code",
   "execution_count": 12,
   "id": "9b034500",
   "metadata": {},
   "outputs": [
    {
     "data": {
      "text/plain": [
       "[0, 1, 4, 9]"
      ]
     },
     "execution_count": 12,
     "metadata": {},
     "output_type": "execute_result"
    }
   ],
   "source": [
    "results = []\n",
    "for item in range(4):\n",
    "    output = ray.get(expensive_square.remote(item))\n",
    "    results.append(output)\n",
    "results"
   ]
  },
  {
   "cell_type": "code",
   "execution_count": 13,
   "id": "e0991b0a",
   "metadata": {},
   "outputs": [
    {
     "data": {
      "text/plain": [
       "[0, 1, 4, 9]"
      ]
     },
     "execution_count": 13,
     "metadata": {},
     "output_type": "execute_result"
    }
   ],
   "source": [
    "refs = []\n",
    "for j in range(4):\n",
    "    refs.append(expensive_square.remote(j))\n",
    "results = ray.get(refs)\n",
    "results"
   ]
  }
 ],
 "metadata": {
  "kernelspec": {
   "display_name": "ray-jupyter",
   "language": "python",
   "name": "python3"
  },
  "language_info": {
   "codemirror_mode": {
    "name": "ipython",
    "version": 3
   },
   "file_extension": ".py",
   "mimetype": "text/x-python",
   "name": "python",
   "nbconvert_exporter": "python",
   "pygments_lexer": "ipython3",
   "version": "3.11.13"
  }
 },
 "nbformat": 4,
 "nbformat_minor": 5
}
