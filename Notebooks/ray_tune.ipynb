{
 "cells": [
  {
   "cell_type": "code",
   "execution_count": 3,
   "id": "707be955",
   "metadata": {},
   "outputs": [],
   "source": [
    "import torch\n",
    "from torchvision.datasets import MNIST\n",
    "from torchvision.transforms import Compose, ToTensor, Normalize\n",
    "from torch.utils.data import DataLoader\n",
    "\n",
    "\n",
    "def build_data_loader(batch_size: int) -> DataLoader:\n",
    "    transform = Compose([ToTensor(), Normalize((0.5,), (0.5,))])\n",
    "    train_data = MNIST(root=\"./data\", train=True, download=True, transform=transform)\n",
    "    data_loader = DataLoader(train_data, batch_size=batch_size, shuffle=True, drop_last=True)\n",
    "    return data_loader"
   ]
  },
  {
   "cell_type": "code",
   "execution_count": 4,
   "id": "b4d0d6ac",
   "metadata": {},
   "outputs": [
    {
     "data": {
      "image/png": "[encoded data removed]",
      "text/plain": [
       "<Figure size 2000x200 with 10 Axes>"
      ]
     },
     "metadata": {},
     "output_type": "display_data"
    }
   ],
   "source": [
    "import matplotlib.pyplot as plt\n",
    "\n",
    "\n",
    "fig, axs = plt.subplots(1, 10, figsize=(20, 2))\n",
    "\n",
    "data_loader = build_data_loader(batch_size=10)\n",
    "\n",
    "for (images, labels) in data_loader:\n",
    "    \n",
    "    for i, (image, label) in enumerate(zip(images, labels)):\n",
    "        axs[i].imshow(image.squeeze(), cmap=\"gray\")\n",
    "        axs[i].set_title(label.item())\n",
    "        axs[i].axis(\"off\")\n",
    "    break"
   ]
  },
  {
   "cell_type": "code",
   "execution_count": 1,
   "id": "83643895",
   "metadata": {},
   "outputs": [],
   "source": [
    "from torchvision.models import resnet18\n",
    "from torch.optim import Adam\n",
    "from torch.nn import CrossEntropyLoss\n",
    "\n",
    "\n",
    "def train_loop_torch(num_epochs: int = 2, batch_size: int = 128, lr: float = 1e-5):\n",
    "    criterion = CrossEntropyLoss()\n",
    "\n",
    "    model = resnet18()\n",
    "    model.conv1 = torch.nn.Conv2d(\n",
    "        1, 64, kernel_size=(7, 7), stride=(2, 2), padding=(3, 3), bias=False\n",
    "    )\n",
    "    \n",
    "    model.to(\"cuda\")\n",
    "    data_loader = build_data_loader(batch_size)\n",
    "    optimizer = Adam(model.parameters(), lr=lr)\n",
    "\n",
    "    for epoch in range(num_epochs):\n",
    "        for images, labels in data_loader:\n",
    "            images, labels = images.to(\"cuda\"), labels.to(\"cuda\")\n",
    "            outputs = model(images)\n",
    "            loss = criterion(outputs, labels)\n",
    "            optimizer.zero_grad()\n",
    "            loss.backward()\n",
    "            optimizer.step()\n",
    "\n",
    "        # Report the metrics\n",
    "        print(f\"Epoch {epoch}, Loss: {loss}\")"
   ]
  },
  {
   "cell_type": "code",
   "execution_count": 5,
   "id": "a0742de7",
   "metadata": {},
   "outputs": [
    {
     "name": "stdout",
     "output_type": "stream",
     "text": [
      "Epoch 0, Loss: 0.3510310649871826\n",
      "Epoch 1, Loss: 0.07451891899108887\n"
     ]
    }
   ],
   "source": [
    "train_loop_torch(num_epochs=2)"
   ]
  },
  {
   "cell_type": "markdown",
   "id": "633727b1",
   "metadata": {},
   "source": [
    "### Tune"
   ]
  },
  {
   "cell_type": "code",
   "execution_count": 6,
   "id": "2614c710",
   "metadata": {},
   "outputs": [],
   "source": [
    "import ray\n",
    "from ray import tune, train\n",
    "from ray.tune.search import optuna\n",
    "import numpy as np\n",
    "from typing import Any\n",
    "\n",
    "\n",
    "def my_simple_model(distance: np.ndarray, a: float) -> np.ndarray:\n",
    "    return distance * a\n",
    "\n",
    "def train_my_simple_model(config: dict[str, Any]) -> None: \n",
    "    distances = np.array([0.1, 0.2, 0.3, 0.4, 0.5])\n",
    "    total_amts = distances * 10\n",
    "    \n",
    "    a = config[\"a\"]\n",
    "    predictions = my_simple_model(distances, a)\n",
    "    rmse = np.sqrt(np.mean((total_amts - predictions) ** 2))\n",
    "\n",
    "    train.report({\"rmse\": rmse})"
   ]
  },
  {
   "cell_type": "code",
   "execution_count": 7,
   "id": "15027e25",
   "metadata": {},
   "outputs": [
    {
     "data": {
      "text/html": [
       "<div class=\"tuneStatus\">\n",
       "  <div style=\"display: flex;flex-direction: row\">\n",
       "    <div style=\"display: flex;flex-direction: column;\">\n",
       "      <h3>Tune Status</h3>\n",
       "      <table>\n",
       "<tbody>\n",
       "<tr><td>Current time:</td><td>2025-07-24 15:07:24</td></tr>\n",
       "<tr><td>Running for: </td><td>00:00:09.50        </td></tr>\n",
       "<tr><td>Memory:      </td><td>12.2/15.5 GiB      </td></tr>\n",
       "</tbody>\n",
       "</table>\n",
       "    </div>\n",
       "    <div class=\"vDivider\"></div>\n",
       "    <div class=\"systemInfo\">\n",
       "      <h3>System Info</h3>\n",
       "      Using FIFO scheduling algorithm.<br>Logical resource usage: 1.0/8 CPUs, 0/1 GPUs (0.0/1.0 accelerator_type:G)\n",
       "    </div>\n",
       "    \n",
       "  </div>\n",
       "  <div class=\"hDivider\"></div>\n",
       "  <div class=\"trialStatus\">\n",
       "    <h3>Trial Status</h3>\n",
       "    <table>\n",
       "<thead>\n",
       "<tr><th>Trial name                       </th><th>status    </th><th>loc               </th><th style=\"text-align: right;\">  a</th><th style=\"text-align: right;\">  iter</th><th style=\"text-align: right;\">  total time (s)</th><th style=\"text-align: right;\">    rmse</th></tr>\n",
       "</thead>\n",
       "<tbody>\n",
       "<tr><td>train_my_simple_model_bcfe8_00000</td><td>TERMINATED</td><td>172.16.0.2:1102522</td><td style=\"text-align: right;\">  8</td><td style=\"text-align: right;\">     1</td><td style=\"text-align: right;\">      0.00210452</td><td style=\"text-align: right;\">0.663325</td></tr>\n",
       "<tr><td>train_my_simple_model_bcfe8_00001</td><td>TERMINATED</td><td>172.16.0.2:1102525</td><td style=\"text-align: right;\"> 11</td><td style=\"text-align: right;\">     1</td><td style=\"text-align: right;\">      0.00910687</td><td style=\"text-align: right;\">0.331662</td></tr>\n",
       "<tr><td>train_my_simple_model_bcfe8_00002</td><td>TERMINATED</td><td>172.16.0.2:1102524</td><td style=\"text-align: right;\">  6</td><td style=\"text-align: right;\">     1</td><td style=\"text-align: right;\">      0.00117421</td><td style=\"text-align: right;\">1.32665 </td></tr>\n",
       "<tr><td>train_my_simple_model_bcfe8_00003</td><td>TERMINATED</td><td>172.16.0.2:1102521</td><td style=\"text-align: right;\"> 13</td><td style=\"text-align: right;\">     1</td><td style=\"text-align: right;\">      0.00111103</td><td style=\"text-align: right;\">0.994987</td></tr>\n",
       "<tr><td>train_my_simple_model_bcfe8_00004</td><td>TERMINATED</td><td>172.16.0.2:1102523</td><td style=\"text-align: right;\"> 10</td><td style=\"text-align: right;\">     1</td><td style=\"text-align: right;\">      0.00156164</td><td style=\"text-align: right;\">0       </td></tr>\n",
       "</tbody>\n",
       "</table>\n",
       "  </div>\n",
       "</div>\n",
       "<style>\n",
       ".tuneStatus {\n",
       "  color: var(--jp-ui-font-color1);\n",
       "}\n",
       ".tuneStatus .systemInfo {\n",
       "  display: flex;\n",
       "  flex-direction: column;\n",
       "}\n",
       ".tuneStatus td {\n",
       "  white-space: nowrap;\n",
       "}\n",
       ".tuneStatus .trialStatus {\n",
       "  display: flex;\n",
       "  flex-direction: column;\n",
       "}\n",
       ".tuneStatus h3 {\n",
       "  font-weight: bold;\n",
       "}\n",
       ".tuneStatus .hDivider {\n",
       "  border-bottom-width: var(--jp-border-width);\n",
       "  border-bottom-color: var(--jp-border-color0);\n",
       "  border-bottom-style: solid;\n",
       "}\n",
       ".tuneStatus .vDivider {\n",
       "  border-left-width: var(--jp-border-width);\n",
       "  border-left-color: var(--jp-border-color0);\n",
       "  border-left-style: solid;\n",
       "  margin: 0.5em 1em 0.5em 1em;\n",
       "}\n",
       "</style>\n"
      ],
      "text/plain": [
       "<IPython.core.display.HTML object>"
      ]
     },
     "metadata": {},
     "output_type": "display_data"
    },
    {
     "name": "stderr",
     "output_type": "stream",
     "text": [
      "\u001b[36m(train_my_simple_model pid=1102522)\u001b[0m /home/ozkan/anaconda3/envs/ray-jupyter/lib/python3.11/site-packages/ray/train/_internal/session.py:772: RayDeprecationWarning: `ray.train.report` should be switched to `ray.tune.report` when running in a function passed to Ray Tune. This will be an error in the future. See this issue for more context: https://github.com/ray-project/ray/issues/49454\n",
      "\u001b[36m(train_my_simple_model pid=1102522)\u001b[0m   _log_deprecation_warning(\n",
      "2025-07-24 15:07:24,948\tINFO tune.py:1009 -- Wrote the latest version of all result files and experiment state to '/home/ozkan/ray_results/train_my_simple_model_2025-07-24_15-06-55' in 0.0206s.\n",
      "2025-07-24 15:07:24,963\tINFO tune.py:1041 -- Total run time: 9.56 seconds (9.48 seconds for the tuning loop).\n"
     ]
    }
   ],
   "source": [
    "tuner = tune.Tuner(\n",
    "    trainable=train_my_simple_model,\n",
    "    param_space={\n",
    "        \"a\": tune.randint(0, 20), \n",
    "    },\n",
    "    tune_config=tune.TuneConfig(\n",
    "        metric=\"rmse\",  \n",
    "        mode=\"min\",     \n",
    "        num_samples=5,  \n",
    "    ),\n",
    ")\n",
    "results = tuner.fit()"
   ]
  },
  {
   "cell_type": "code",
   "execution_count": null,
   "id": "fb20fb5a",
   "metadata": {},
   "outputs": [
    {
     "data": {
      "text/plain": [
       "Result(\n",
       "  metrics={'rmse': np.float64(0.0)},\n",
       "  path='/home/ozkan/ray_results/train_my_simple_model_2025-07-24_15-06-55/train_my_simple_model_bcfe8_00004_4_a=10_2025-07-24_15-07-15',\n",
       "  filesystem='local',\n",
       "  checkpoint=None\n",
       ")"
      ]
     },
     "execution_count": 8,
     "metadata": {},
     "output_type": "execute_result"
    },
    {
     "ename": "",
     "evalue": "",
     "output_type": "error",
     "traceback": [
      "\u001b[1;31mThe Kernel crashed while executing code in the current cell or a previous cell. \n",
      "\u001b[1;31mPlease review the code in the cell(s) to identify a possible cause of the failure. \n",
      "\u001b[1;31mClick <a href='https://aka.ms/vscodeJupyterKernelCrash'>here</a> for more info. \n",
      "\u001b[1;31mView Jupyter <a href='command:jupyter.viewOutput'>log</a> for further details."
     ]
    }
   ],
   "source": [
    "best_result = results.get_best_result()\n",
    "best_result"
   ]
  },
  {
   "cell_type": "code",
   "execution_count": null,
   "id": "f236a704",
   "metadata": {},
   "outputs": [],
   "source": []
  },
  {
   "cell_type": "code",
   "execution_count": null,
   "id": "1ec8ec1f",
   "metadata": {},
   "outputs": [],
   "source": []
  },
  {
   "cell_type": "code",
   "execution_count": null,
   "id": "bfd6a3a8",
   "metadata": {},
   "outputs": [],
   "source": []
  },
  {
   "cell_type": "code",
   "execution_count": null,
   "id": "e1ddacf1",
   "metadata": {},
   "outputs": [],
   "source": []
  },
  {
   "cell_type": "code",
   "execution_count": null,
   "id": "2d182290",
   "metadata": {},
   "outputs": [],
   "source": []
  },
  {
   "cell_type": "code",
   "execution_count": null,
   "id": "dce6ac9b",
   "metadata": {},
   "outputs": [],
   "source": []
  }
 ],
 "metadata": {
  "kernelspec": {
   "display_name": "ray-jupyter",
   "language": "python",
   "name": "python3"
  },
  "language_info": {
   "codemirror_mode": {
    "name": "ipython",
    "version": 3
   },
   "file_extension": ".py",
   "mimetype": "text/x-python",
   "name": "python",
   "nbconvert_exporter": "python",
   "pygments_lexer": "ipython3",
   "version": "3.11.13"
  }
 },
 "nbformat": 4,
 "nbformat_minor": 5
}
