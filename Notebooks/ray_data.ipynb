{
 "cells": [
  {
   "cell_type": "code",
   "execution_count": 1,
   "id": "6c1e9e88",
   "metadata": {},
   "outputs": [],
   "source": [
    "import ray\n",
    "import pandas as pd"
   ]
  },
  {
   "cell_type": "code",
   "execution_count": null,
   "id": "8bb228d7",
   "metadata": {},
   "outputs": [],
   "source": [
    "COLUMNS = [\n",
    "    \"trip_distance\",\n",
    "    \"passenger_count\",\n",
    "    \"PULocationID\",\n",
    "    \"DOLocationID\",\n",
    "    \"payment_type\",\n",
    "    \"tolls_amount\",\n",
    "    \"tip_amount\",\n",
    "    \"total_amount\",\n",
    "]\n",
    "\n",
    "DATA_PATH = \"s3://anyscale-public-materials/nyc-taxi-cab\""
   ]
  },
  {
   "cell_type": "code",
   "execution_count": null,
   "id": "887eafb5",
   "metadata": {},
   "outputs": [],
   "source": [
    "df = pd.read_parquet(\n",
    "    f\"{DATA_PATH}/yellow_tripdata_2011-05.parquet\",\n",
    "    columns=COLUMNS,\n",
    ")\n",
    "\n",
    "df.head()"
   ]
  },
  {
   "cell_type": "code",
   "execution_count": null,
   "id": "7c448d93",
   "metadata": {},
   "outputs": [],
   "source": [
    "df.memory_usage(deep=True).sum().sum() / 1024**2"
   ]
  },
  {
   "cell_type": "code",
   "execution_count": null,
   "id": "481b15bf",
   "metadata": {},
   "outputs": [],
   "source": [
    "!aws s3 ls s3://anyscale-public-materials/nyc-taxi-cab/ --human-readable | wc -l"
   ]
  },
  {
   "cell_type": "code",
   "execution_count": null,
   "id": "4dd93caf",
   "metadata": {},
   "outputs": [],
   "source": [
    "ds = ray.data.read_parquet(\n",
    "    DATA_PATH,\n",
    "    columns=COLUMNS,\n",
    ")"
   ]
  },
  {
   "cell_type": "code",
   "execution_count": null,
   "id": "8a8855b6",
   "metadata": {},
   "outputs": [],
   "source": [
    "ds"
   ]
  },
  {
   "cell_type": "code",
   "execution_count": null,
   "id": "2be5d35e",
   "metadata": {},
   "outputs": [],
   "source": [
    "def adjust_total_amount(df: pd.DataFrame) -> pd.DataFrame:\n",
    "    df[\"adjusted_total_amount\"] = df[\"total_amount\"] - df[\"tip_amount\"]\n",
    "    return df\n",
    "\n",
    "df = adjust_total_amount(df)"
   ]
  },
  {
   "cell_type": "code",
   "execution_count": null,
   "id": "bd4158f9",
   "metadata": {},
   "outputs": [],
   "source": [
    "ds_adjusted = ds.map_batches(adjust_total_amount, batch_format=\"pandas\")"
   ]
  },
  {
   "cell_type": "code",
   "execution_count": null,
   "id": "092e759d",
   "metadata": {},
   "outputs": [],
   "source": [
    "def compute_tip_percentage(df: pd.DataFrame) -> pd.DataFrame:\n",
    "    df[\"tip_percentage\"] = df[\"tip_amount\"] / df[\"total_amount\"]\n",
    "    return df\n",
    "\n",
    "df = compute_tip_percentage(df)"
   ]
  },
  {
   "cell_type": "code",
   "execution_count": null,
   "id": "2a9261cd",
   "metadata": {},
   "outputs": [],
   "source": [
    "ds_tip = ds_adjusted.map_batches(compute_tip_percentage, batch_format=\"pandas\", batch_size=1024)"
   ]
  },
  {
   "cell_type": "code",
   "execution_count": null,
   "id": "c71c6850",
   "metadata": {},
   "outputs": [],
   "source": [
    "ds.take_batch()"
   ]
  },
  {
   "cell_type": "code",
   "execution_count": null,
   "id": "c295dbe1",
   "metadata": {},
   "outputs": [],
   "source": [
    "ds_tip.take_batch()"
   ]
  },
  {
   "cell_type": "code",
   "execution_count": null,
   "id": "ed590bba",
   "metadata": {},
   "outputs": [],
   "source": [
    "storage_folder = '/mnt/cluster_storage' "
   ]
  },
  {
   "cell_type": "code",
   "execution_count": null,
   "id": "791e57b4",
   "metadata": {},
   "outputs": [],
   "source": [
    "df.to_parquet(f\"{storage_folder}/adjusted_data.parquet\")"
   ]
  },
  {
   "cell_type": "code",
   "execution_count": null,
   "id": "495756f6",
   "metadata": {},
   "outputs": [],
   "source": [
    "!ls -lh {storage_folder}/adjusted_data.parquet"
   ]
  },
  {
   "cell_type": "code",
   "execution_count": null,
   "id": "7640e207",
   "metadata": {},
   "outputs": [],
   "source": [
    "!rm -rf /mnt/cluster_storage/adjusted_data_ray/ \n",
    "ds_limited = ds_adjusted.limit(df.shape[0]) \n",
    "ds_limited.write_parquet(f\"{storage_folder}/adjusted_data_ray/\")"
   ]
  },
  {
   "cell_type": "code",
   "execution_count": null,
   "id": "f268fec4",
   "metadata": {},
   "outputs": [],
   "source": [
    "!ls -lh {storage_folder}/adjusted_data_ray/"
   ]
  },
  {
   "cell_type": "code",
   "execution_count": null,
   "id": "7908fa84",
   "metadata": {},
   "outputs": [],
   "source": [
    "ds_file_shuffled = ray.data.read_parquet(DATA_PATH, columns=COLUMNS, shuffle=\"files\")"
   ]
  },
  {
   "cell_type": "code",
   "execution_count": null,
   "id": "b8a748c7",
   "metadata": {},
   "outputs": [],
   "source": [
    "ds_file_shuffled"
   ]
  },
  {
   "cell_type": "code",
   "execution_count": null,
   "id": "0dbade67",
   "metadata": {},
   "outputs": [],
   "source": [
    "ds = (\n",
    "    ray.data.read_parquet(\n",
    "        \"s3://anyscale-public-materials/nyc-taxi-cab/yellow_tripdata_2011-05.parquet\",\n",
    "        columns=COLUMNS,\n",
    "    )\n",
    ")"
   ]
  },
  {
   "cell_type": "code",
   "execution_count": null,
   "id": "8a5c8199",
   "metadata": {},
   "outputs": [],
   "source": [
    "ds_block_based_shuffle = ds.randomize_block_order()\n",
    "ds_block_based_shuffle.to_pandas()"
   ]
  },
  {
   "cell_type": "code",
   "execution_count": null,
   "id": "392596ed",
   "metadata": {},
   "outputs": [],
   "source": [
    "ds_row_based_shuffle = ds.random_shuffle()"
   ]
  },
  {
   "cell_type": "code",
   "execution_count": null,
   "id": "fb2e899b",
   "metadata": {},
   "outputs": [],
   "source": [
    "ds_row_based_shuffle.to_pandas()"
   ]
  },
  {
   "cell_type": "code",
   "execution_count": null,
   "id": "ff15c6e8",
   "metadata": {},
   "outputs": [],
   "source": [
    "df.groupby(\"payment_type\")[\"trip_distance\"].mean()"
   ]
  },
  {
   "cell_type": "code",
   "execution_count": null,
   "id": "8e55c7e3",
   "metadata": {},
   "outputs": [],
   "source": [
    "num_cpus = 8\n",
    "ds.repartition(num_cpus).groupby(\"payment_type\").mean(\"trip_distance\").to_pandas()"
   ]
  },
  {
   "cell_type": "code",
   "execution_count": null,
   "id": "6ee7db0f",
   "metadata": {},
   "outputs": [],
   "source": [
    "!rm {storage_folder}/adjusted_data.parquet\n",
    "!rm -rf {storage_folder}/adjusted_data_ray/"
   ]
  },
  {
   "cell_type": "code",
   "execution_count": null,
   "id": "dacea18a",
   "metadata": {},
   "outputs": [],
   "source": []
  }
 ],
 "metadata": {
  "kernelspec": {
   "display_name": "ray-jupyter",
   "language": "python",
   "name": "python3"
  },
  "language_info": {
   "codemirror_mode": {
    "name": "ipython",
    "version": 3
   },
   "file_extension": ".py",
   "mimetype": "text/x-python",
   "name": "python",
   "nbconvert_exporter": "python",
   "pygments_lexer": "ipython3",
   "version": "3.11.13"
  }
 },
 "nbformat": 4,
 "nbformat_minor": 5
}
