{
 "cells": [
  {
   "cell_type": "code",
   "execution_count": 1,
   "id": "6c351d6c",
   "metadata": {},
   "outputs": [],
   "source": [
    "import os\n",
    "import random\n",
    "import sys\n",
    "import time\n",
    "\n",
    "import numpy as np\n",
    "import ray"
   ]
  },
  {
   "cell_type": "code",
   "execution_count": 2,
   "id": "30d751a9",
   "metadata": {},
   "outputs": [
    {
     "name": "stdout",
     "output_type": "stream",
     "text": [
      "large_matrix has: 1.00 GB\n"
     ]
    }
   ],
   "source": [
    "large_matrix = np.random.rand(1024, 1024, 1024//8) # approx. 1 GB\n",
    "size_in_bytes = sys.getsizeof(large_matrix)\n",
    "\n",
    "print(f\"large_matrix has: {size_in_bytes/1024/1024/1024:.2f} GB\")"
   ]
  },
  {
   "cell_type": "code",
   "execution_count": 3,
   "id": "f41eb0f0",
   "metadata": {},
   "outputs": [
    {
     "name": "stderr",
     "output_type": "stream",
     "text": [
      "2025-07-19 11:14:21,259\tINFO worker.py:1879 -- Started a local Ray instance. View the dashboard at \u001b[1m\u001b[32mhttp://127.0.0.1:8267 \u001b[39m\u001b[22m\n"
     ]
    },
    {
     "name": "stdout",
     "output_type": "stream",
     "text": [
      "Object reference: ObjectRef(00ffffffffffffffffffffffffffffffffffffff0100000001e1f505)\n"
     ]
    },
    {
     "name": "stdout",
     "output_type": "stream",
     "text": [
      "\u001b[36m(mm pid=378546)\u001b[0m Took 4.094043016433716 s\n",
      "\u001b[36m(mm pid=378700)\u001b[0m Took 2.7503392696380615 s\n"
     ]
    },
    {
     "name": "stderr",
     "output_type": "stream",
     "text": [
      "\u001b[33m(raylet)\u001b[0m [2025-07-19 11:31:21,270 E 359872 359872] (raylet) node_manager.cc:3287: 2 Workers (tasks / actors) killed due to memory pressure (OOM), 0 Workers crashed due to other reasons at node (ID: fc72b861b9298a6fd07f7354e2553dc2347052d8f00296b430fd6bc1, IP: 172.16.0.2) over the last time period. To see more information about the Workers killed on this node, use `ray logs raylet.out -ip 172.16.0.2`\n",
      "\u001b[33m(raylet)\u001b[0m \n",
      "\u001b[33m(raylet)\u001b[0m Refer to the documentation on how to address the out of memory issue: https://docs.ray.io/en/latest/ray-core/scheduling/ray-oom-prevention.html. Consider provisioning more memory on this node or reducing task parallelism by requesting more CPUs per task. To adjust the kill threshold, set the environment variable `RAY_memory_usage_threshold` when starting Ray. To disable worker killing, set the environment variable `RAY_memory_monitor_refresh_ms` to zero.\n",
      "\u001b[33m(raylet)\u001b[0m [2025-07-19 11:33:21,273 E 359872 359872] (raylet) node_manager.cc:3287: 1 Workers (tasks / actors) killed due to memory pressure (OOM), 0 Workers crashed due to other reasons at node (ID: fc72b861b9298a6fd07f7354e2553dc2347052d8f00296b430fd6bc1, IP: 172.16.0.2) over the last time period. To see more information about the Workers killed on this node, use `ray logs raylet.out -ip 172.16.0.2`\n",
      "\u001b[33m(raylet)\u001b[0m \n",
      "\u001b[33m(raylet)\u001b[0m Refer to the documentation on how to address the out of memory issue: https://docs.ray.io/en/latest/ray-core/scheduling/ray-oom-prevention.html. Consider provisioning more memory on this node or reducing task parallelism by requesting more CPUs per task. To adjust the kill threshold, set the environment variable `RAY_memory_usage_threshold` when starting Ray. To disable worker killing, set the environment variable `RAY_memory_monitor_refresh_ms` to zero.\n",
      "\u001b[33m(raylet)\u001b[0m [2025-07-19 11:37:21,288 E 359872 359872] (raylet) node_manager.cc:3287: 5 Workers (tasks / actors) killed due to memory pressure (OOM), 0 Workers crashed due to other reasons at node (ID: fc72b861b9298a6fd07f7354e2553dc2347052d8f00296b430fd6bc1, IP: 172.16.0.2) over the last time period. To see more information about the Workers killed on this node, use `ray logs raylet.out -ip 172.16.0.2`\n",
      "\u001b[33m(raylet)\u001b[0m \n",
      "\u001b[33m(raylet)\u001b[0m Refer to the documentation on how to address the out of memory issue: https://docs.ray.io/en/latest/ray-core/scheduling/ray-oom-prevention.html. Consider provisioning more memory on this node or reducing task parallelism by requesting more CPUs per task. To adjust the kill threshold, set the environment variable `RAY_memory_usage_threshold` when starting Ray. To disable worker killing, set the environment variable `RAY_memory_monitor_refresh_ms` to zero.\n",
      "\u001b[33m(raylet)\u001b[0m \n",
      "\u001b[33m(raylet)\u001b[0m [2025-07-19 11:38:21,289 E 359872 359872] (raylet) node_manager.cc:3287: 1 Workers (tasks / actors) killed due to memory pressure (OOM), 0 Workers crashed due to other reasons at node (ID: fc72b861b9298a6fd07f7354e2553dc2347052d8f00296b430fd6bc1, IP: 172.16.0.2) over the last time period. To see more information about the Workers killed on this node, use `ray logs raylet.out -ip 172.16.0.2`\n",
      "\u001b[33m(raylet)\u001b[0m Refer to the documentation on how to address the out of memory issue: https://docs.ray.io/en/latest/ray-core/scheduling/ray-oom-prevention.html. Consider provisioning more memory on this node or reducing task parallelism by requesting more CPUs per task. To adjust the kill threshold, set the environment variable `RAY_memory_usage_threshold` when starting Ray. To disable worker killing, set the environment variable `RAY_memory_monitor_refresh_ms` to zero.\n"
     ]
    }
   ],
   "source": [
    "obj_ref = ray.put(large_matrix)\n",
    "print(f\"Object reference: {obj_ref}\")"
   ]
  },
  {
   "cell_type": "code",
   "execution_count": 7,
   "id": "4b134569",
   "metadata": {},
   "outputs": [
    {
     "data": {
      "text/plain": [
       "True"
      ]
     },
     "execution_count": 7,
     "metadata": {},
     "output_type": "execute_result"
    }
   ],
   "source": [
    "large_mat_from_object_store = ray.get(obj_ref)\n",
    "np.array_equal(large_mat_from_object_store, large_matrix)\n"
   ]
  },
  {
   "cell_type": "code",
   "execution_count": 6,
   "id": "0dd0b2fb",
   "metadata": {},
   "outputs": [
    {
     "data": {
      "text/plain": [
       "False"
      ]
     },
     "execution_count": 6,
     "metadata": {},
     "output_type": "execute_result"
    }
   ],
   "source": [
    "large_mat_from_object_store is large_matrix\n"
   ]
  },
  {
   "cell_type": "code",
   "execution_count": 8,
   "id": "1ad1d7e8",
   "metadata": {},
   "outputs": [
    {
     "data": {
      "text/plain": [
       "[8285, 8285, 8285, 8285, 8285, 8285, 8285, 8285, 8285, 8285]"
      ]
     },
     "execution_count": 8,
     "metadata": {},
     "output_type": "execute_result"
    }
   ],
   "source": [
    "@ray.remote\n",
    "def compute(x, y):\n",
    "    return int(np.matmul(x,y).sum())\n",
    "\n",
    "mat1_ref = ray.put(np.random.rand(32, 32))\n",
    "mat2_ref = ray.put(np.random.rand(32, 32))\n",
    "\n",
    "collection = []\n",
    "for _ in range(10):\n",
    "    collection.append(compute.remote(mat1_ref, mat2_ref))\n",
    "\n",
    "results = ray.get(collection)\n",
    "results"
   ]
  },
  {
   "cell_type": "markdown",
   "id": "6a882863",
   "metadata": {},
   "source": [
    "### Chaining Tasks"
   ]
  },
  {
   "cell_type": "code",
   "execution_count": 10,
   "id": "030347fa",
   "metadata": {},
   "outputs": [
    {
     "name": "stdout",
     "output_type": "stream",
     "text": [
      "Final result: 101, Sum value: 101\n"
     ]
    }
   ],
   "source": [
    "@ray.remote\n",
    "def remote_add(a, b):\n",
    "    return a + b\n",
    "\n",
    "@ray.remote\n",
    "def expensive_square(x):\n",
    "    time.sleep(5)\n",
    "    return x**2\n",
    "\n",
    "# Chaining tasks\n",
    "square_ref = expensive_square.remote(10)\n",
    "squared_result = ray.get(square_ref)\n",
    "\n",
    "# Chaining tasks with remote_add\n",
    "sum_ref = remote_add.remote(1, squared_result)\n",
    "final_result = ray.get(sum_ref)\n",
    "\n",
    "sum_value = ray.get(sum_ref)\n",
    "print(f\"Final result: {final_result}, Sum value: {sum_value}\")"
   ]
  },
  {
   "cell_type": "markdown",
   "id": "a315e746",
   "metadata": {},
   "source": [
    "### Task retries -> system errors, application-level error"
   ]
  },
  {
   "cell_type": "code",
   "execution_count": 11,
   "id": "1ebf3ecf",
   "metadata": {},
   "outputs": [
    {
     "name": "stdout",
     "output_type": "stream",
     "text": [
      "At least one of the tasks failed\n"
     ]
    },
    {
     "name": "stderr",
     "output_type": "stream",
     "text": [
      "2025-07-19 11:24:20,742\tERROR worker.py:421 -- Unhandled error (suppress with 'RAY_IGNORE_UNHANDLED_ERRORS=1'): \u001b[36mray::incorrect_square()\u001b[39m (pid=359934, ip=172.16.0.2)\n",
      "  File \"/tmp/ipykernel_348556/3426736041.py\", line 4, in incorrect_square\n",
      "ValueError: Simulated error\n",
      "2025-07-19 11:24:20,743\tERROR worker.py:421 -- Unhandled error (suppress with 'RAY_IGNORE_UNHANDLED_ERRORS=1'): \u001b[36mray::incorrect_square()\u001b[39m (pid=359929, ip=172.16.0.2)\n",
      "  File \"/tmp/ipykernel_348556/3426736041.py\", line 4, in incorrect_square\n",
      "ValueError: Simulated error\n",
      "2025-07-19 11:24:20,744\tERROR worker.py:421 -- Unhandled error (suppress with 'RAY_IGNORE_UNHANDLED_ERRORS=1'): \u001b[36mray::incorrect_square()\u001b[39m (pid=359933, ip=172.16.0.2)\n",
      "  File \"/tmp/ipykernel_348556/3426736041.py\", line 4, in incorrect_square\n",
      "ValueError: Simulated error\n",
      "2025-07-19 11:24:20,747\tERROR worker.py:421 -- Unhandled error (suppress with 'RAY_IGNORE_UNHANDLED_ERRORS=1'): \u001b[36mray::incorrect_square()\u001b[39m (pid=359930, ip=172.16.0.2)\n",
      "  File \"/tmp/ipykernel_348556/3426736041.py\", line 4, in incorrect_square\n",
      "ValueError: Simulated error\n"
     ]
    },
    {
     "name": "stderr",
     "output_type": "stream",
     "text": [
      "2025-07-19 11:24:20,749\tERROR worker.py:421 -- Unhandled error (suppress with 'RAY_IGNORE_UNHANDLED_ERRORS=1'): \u001b[36mray::incorrect_square()\u001b[39m (pid=359935, ip=172.16.0.2)\n",
      "  File \"/tmp/ipykernel_348556/3426736041.py\", line 4, in incorrect_square\n",
      "ValueError: Simulated error\n"
     ]
    }
   ],
   "source": [
    "@ray.remote\n",
    "def incorrect_square(x: int, probability: float) -> int:\n",
    "    if random.random() < probability:\n",
    "        raise ValueError(\"Simulated error\")\n",
    "    return x ** 2\n",
    "\n",
    "try:\n",
    "    ray.get([incorrect_square.remote(x=4, probability=0.5) for _ in range(10)])\n",
    "except Exception as e:\n",
    "    print(\"At least one of the tasks failed\", flush=True)"
   ]
  },
  {
   "cell_type": "markdown",
   "id": "a089ff24",
   "metadata": {},
   "source": [
    "### Runtime-Environments"
   ]
  },
  {
   "cell_type": "code",
   "execution_count": 12,
   "id": "ae3c55a2",
   "metadata": {},
   "outputs": [
    {
     "data": {
      "text/plain": [
       "'My custom environment variable is set to: production'"
      ]
     },
     "execution_count": 12,
     "metadata": {},
     "output_type": "execute_result"
    }
   ],
   "source": [
    "@ray.remote(runtime_env={\"env_vars\": {\"MY_CUSTOM_ENV\": \"production\"}})\n",
    "def f():\n",
    "    env = os.environ[\"MY_CUSTOM_ENV\"]\n",
    "    return f\"My custom environment variable is set to: {env}\"\n",
    "\n",
    "ray.get(f.remote())"
   ]
  },
  {
   "cell_type": "markdown",
   "id": "9a23f3fa",
   "metadata": {},
   "source": [
    "### Resource Allocation & Management"
   ]
  },
  {
   "cell_type": "code",
   "execution_count": 13,
   "id": "4f095591",
   "metadata": {},
   "outputs": [],
   "source": [
    "@ray.remote(num_cpus=1)\n",
    "def add_random_function(x, y):\n",
    "    time.sleep(1)\n",
    "    return x + y\n",
    "\n",
    "@ray.remote(num_cpus=1)\n",
    "def mm(n: int = 4000):\n",
    "    A = np.random.rand(n, n)\n",
    "    B = np.random.rand(n, n)\n",
    "\n",
    "    start = time.time()\n",
    "    C = np.matmul(A, B)\n",
    "    end = time.time()\n",
    "    print(f\"Took {end - start} s\", flush=True)\n",
    "\n",
    "ray.get(mm.options(runtime_env={\"env_vars\": {\"OMP_NUM_THREADS\": \"1\"}}).remote())\n",
    "ray.get(mm.options(runtime_env={\"env_vars\": {\"OMP_NUM_THREADS\": \"8\"}}).remote())"
   ]
  },
  {
   "cell_type": "code",
   "execution_count": 18,
   "id": "d543e170",
   "metadata": {},
   "outputs": [
    {
     "name": "stdout",
     "output_type": "stream",
     "text": [
      "{'CPU': 8.0, 'node:__internal_head__': 1.0, 'accelerator_type:G': 1.0, 'GPU': 1.0, 'memory': 3136458752.0, 'node:172.16.0.2': 1.0, 'object_store_memory': 270437636.0}\n",
      "{'CPU': 8.0, 'node:__internal_head__': 1.0, 'accelerator_type:G': 1.0, 'GPU': 1.0, 'memory': 3136458752.0, 'node:172.16.0.2': 1.0, 'object_store_memory': 1344196608.0}\n",
      "GPU task result shape: torch.Size([100, 100])\n",
      "CPU task result: CPU task completed\n",
      "Result of remote_add: 5\n",
      "Result of main: 25\n"
     ]
    }
   ],
   "source": [
    "print(ray.available_resources())\n",
    "print(ray.cluster_resources())\n",
    "\n",
    "@ray.remote(num_cpus=1, num_gpus=1)\n",
    "def gpu_task():\n",
    "    import torch\n",
    "    return torch.rand(100, 100).cuda()\n",
    "gpu_task_ref = gpu_task.options(num_gpus=1).remote()\n",
    "gpu_task_result = ray.get(gpu_task_ref)\n",
    "print(f\"GPU task result shape: {gpu_task_result.shape}\")\n",
    "\n",
    "\n",
    "@ray.remote(num_cpus=0.5)\n",
    "def cpu_task():\n",
    "    import time\n",
    "    time.sleep(1)\n",
    "    return \"CPU task completed\"\n",
    "\n",
    "cpu_task_ref = cpu_task.options(num_cpus=0.5).remote()\n",
    "cpu_task_result = ray.get(cpu_task_ref)\n",
    "print(f\"CPU task result: {cpu_task_result}\")\n",
    "\n",
    "@ray.remote(num_cpus=0.5)\n",
    "def remote_add(a, b):\n",
    "    return a + b\n",
    "ref = remote_add.remote(3, 2)\n",
    "ref\n",
    "result = ray.get(ref)\n",
    "print(f\"Result of remote_add: {result}\")\n",
    "\n",
    "@ray.remote\n",
    "def main():\n",
    "    square_ref = expensive_square.remote(3)\n",
    "    square_ref_2 = expensive_square.remote(4)\n",
    "    add_ref = remote_add.remote(square_ref, square_ref_2)\n",
    "    return ray.get(add_ref)\n",
    "result = ray.get(main.remote())\n",
    "print(f\"Result of main: {result}\")"
   ]
  },
  {
   "cell_type": "markdown",
   "id": "f1f14e14",
   "metadata": {},
   "source": [
    "### Ray Actors"
   ]
  },
  {
   "cell_type": "code",
   "execution_count": 24,
   "id": "bf8fb217",
   "metadata": {},
   "outputs": [
    {
     "data": {
      "text/plain": [
       "190"
      ]
     },
     "execution_count": 24,
     "metadata": {},
     "output_type": "execute_result"
    }
   ],
   "source": [
    "@ray.remote\n",
    "class Accounting:\n",
    "    def __init__(self):\n",
    "        self.total = 0\n",
    "    \n",
    "    def add(self, amount):\n",
    "        self.total += amount\n",
    "        \n",
    "    def remove(self, amount):\n",
    "        self.total -= amount\n",
    "        \n",
    "    def total(self):\n",
    "        return self.total\n",
    "\n",
    "acc = Accounting.remote()\n",
    "acc.total.remote()\n",
    "ray.get(acc.add.remote(100))\n",
    "acc.add.remote(100)\n",
    "acc.remove.remote(10)\n",
    "ray.get(acc.total.remote())"
   ]
  },
  {
   "cell_type": "code",
   "execution_count": 25,
   "id": "ca65826f",
   "metadata": {},
   "outputs": [
    {
     "data": {
      "text/plain": [
       "212.0"
      ]
     },
     "execution_count": 25,
     "metadata": {},
     "output_type": "execute_result"
    }
   ],
   "source": [
    "@ray.remote\n",
    "class LinearModel:\n",
    "    def __init__(self, w0, w1):\n",
    "        self.w0 = w0\n",
    "        self.w1 = w1\n",
    "\n",
    "    def convert(self, celsius):\n",
    "        return self.w1 * celsius + self.w0\n",
    "\n",
    "model = LinearModel.remote(w1=9/5, w0=32)\n",
    "ray.get(model.convert.remote(100))"
   ]
  }
 ],
 "metadata": {
  "kernelspec": {
   "display_name": "ray-jupyter",
   "language": "python",
   "name": "python3"
  },
  "language_info": {
   "codemirror_mode": {
    "name": "ipython",
    "version": 3
   },
   "file_extension": ".py",
   "mimetype": "text/x-python",
   "name": "python",
   "nbconvert_exporter": "python",
   "pygments_lexer": "ipython3",
   "version": "3.11.13"
  }
 },
 "nbformat": 4,
 "nbformat_minor": 5
}
